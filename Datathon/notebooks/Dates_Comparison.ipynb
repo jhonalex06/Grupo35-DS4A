{
 "cells": [
  {
   "cell_type": "code",
   "execution_count": 2,
   "metadata": {},
   "outputs": [],
   "source": [
    "import pandas as pd\n",
    "import numpy as np\n",
    "import os\n",
    "\n",
    "# En la raiz donde esta ubicado este archivo debera encontrarse una carpeta Dataset la cual contiene los datasets que nos entregaron.\n",
    "# Se mantuvieron los nombres de los archivos sin modificaciones.\n",
    "# Al finalizar este script creara un archivo llamado Fechas_en_Todos_DF.csv el cual contiene las fechas en comun\n",
    "# entre todos los datasets.\n",
    "\n",
    "# currentPath = os.getcwd()\n",
    "currentPath = os.path.dirname(os.path.abspath('__file__'))\n",
    "folderFiles = 'Dataset'\n",
    "# pathFiles = os.path.join(currentPath,folderFiles)\n",
    "weather = 'weather.csv'\n",
    "uber2014 = 'uber_trips_2014.csv'\n",
    "uber2015 = 'uber_trips_2015.csv'\n",
    "greenTrips = 'green_trips.csv'\n",
    "mtaTrips = 'mtaTrips.csv'\n",
    "yellowTrips = 'yellow_trips.csv'\n",
    "\n",
    "fileDatesAll = os.path.join(currentPath,folderFiles,'Fechas_en_Todos_DF.csv')\n",
    "listFiles = [weather,uber2014,uber2015,greenTrips,mtaTrips,yellowTrips]"
   ]
  },
  {
   "cell_type": "code",
   "execution_count": 55,
   "metadata": {},
   "outputs": [],
   "source": [
    "def dateFunction(file):\n",
    "    dfPandas = pd.read_csv(os.path.join(currentPath,folderFiles,file))\n",
    "    if file == 'weather.csv':\n",
    "        dfPandas['date'] = pd.to_datetime(dfPandas['date']).dt.strftime('%Y-%m-%d')\n",
    "        dates = (dfPandas.date.unique()).tolist()\n",
    "        return dates\n",
    "    elif 'uber' in file:\n",
    "        dfPandas['pickup_datetime'] = pd.to_datetime(dfPandas['pickup_datetime']).dt.strftime('%Y-%m-%d')\n",
    "        dates = (dfPandas.pickup_datetime.unique()).tolist()\n",
    "        return dates\n",
    "    else:\n",
    "        dfPandas['pickup_datetime'] = pd.to_datetime(dfPandas['pickup_datetime']).dt.strftime('%Y-%m-%d')\n",
    "        dfPandas['dropoff_datetime'] = pd.to_datetime(dfPandas['dropoff_datetime']).dt.strftime('%Y-%m-%d')\n",
    "        datesPU = (dfPandas.pickup_datetime.unique()).tolist()\n",
    "        datesDO = (dfPandas.dropoff_datetime.unique()).tolist()\n",
    "        for dateDO in datesDO:\n",
    "            if dateDO in datesPU:\n",
    "                datesPU.append(dateDO)\n",
    "        # datesPU.sort()\n",
    "        return datesPU"
   ]
  },
  {
   "cell_type": "code",
   "execution_count": 56,
   "metadata": {},
   "outputs": [],
   "source": [
    "datesWeather = dateFunction(weather)\n",
    "datesuber = dateFunction(uber2014)+ dateFunction(uber2015)\n",
    "datesgreenTrips = dateFunction(greenTrips)\n",
    "datesyellowTrips = dateFunction(yellowTrips)"
   ]
  },
  {
   "cell_type": "code",
   "execution_count": 83,
   "metadata": {},
   "outputs": [],
   "source": [
    "datesinAll = set(datesWeather) & set(datesuber) & set(datesgreenTrips) & set(datesyellowTrips)"
   ]
  },
  {
   "cell_type": "code",
   "execution_count": 85,
   "metadata": {},
   "outputs": [
    {
     "data": {
      "text/plain": [
       "364"
      ]
     },
     "execution_count": 85,
     "metadata": {},
     "output_type": "execute_result"
    }
   ],
   "source": [
    "len(datesinAll)"
   ]
  },
  {
   "cell_type": "code",
   "execution_count": 86,
   "metadata": {},
   "outputs": [],
   "source": [
    "with open (fileDatesAll,'w') as f:\n",
    "    for i in datesinAll:\n",
    "        f.write('{}\\n'.format(i))"
   ]
  },
  {
   "cell_type": "code",
   "execution_count": null,
   "metadata": {},
   "outputs": [],
   "source": []
  }
 ],
 "metadata": {
  "kernelspec": {
   "display_name": "Python 3",
   "language": "python",
   "name": "python3"
  },
  "language_info": {
   "codemirror_mode": {
    "name": "ipython",
    "version": 3
   },
   "file_extension": ".py",
   "mimetype": "text/x-python",
   "name": "python",
   "nbconvert_exporter": "python",
   "pygments_lexer": "ipython3",
   "version": "3.7.3"
  }
 },
 "nbformat": 4,
 "nbformat_minor": 2
}
