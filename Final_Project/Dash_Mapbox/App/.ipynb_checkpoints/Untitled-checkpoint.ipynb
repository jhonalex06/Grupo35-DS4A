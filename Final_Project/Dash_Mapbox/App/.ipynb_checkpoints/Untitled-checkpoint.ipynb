{
 "cells": [
  {
   "cell_type": "code",
   "execution_count": 1,
   "metadata": {},
   "outputs": [],
   "source": [
    "import pandas as pd"
   ]
  },
  {
   "cell_type": "code",
   "execution_count": 30,
   "metadata": {},
   "outputs": [
    {
     "name": "stderr",
     "output_type": "stream",
     "text": [
      "/home/shade/.local/lib/python3.7/site-packages/IPython/core/interactiveshell.py:3058: DtypeWarning: Columns (36) have mixed types. Specify dtype option on import or set low_memory=False.\n",
      "  interactivity=interactivity, compiler=compiler, result=result)\n"
     ]
    },
    {
     "data": {
      "text/plain": [
       "Index(['ClientId', 'ClientName', 'TransactionId', 'TransactionType',\n",
       "       'Category1Id', 'Category2Id', 'Category3Id', 'Category1', 'Category2',\n",
       "       'Category3', 'Location1', 'Location2', 'Location3', 'Location4',\n",
       "       'Description', 'Price', 'ContractType', 'OutStanding', 'TopAdvert',\n",
       "       'ProductLabel', 'GridDate', 'Keywords', 'Status', 'Surface', 'Area',\n",
       "       'LivingArea', 'Address', 'Rooms', 'Capacity', 'Baths', 'Ages',\n",
       "       'DeliveryDate', 'Condition', 'Floor', 'AdministrationPrice',\n",
       "       'Neighborhood', 'Stratum', 'Garages', 'Extras', 'Latitude', 'Longitude',\n",
       "       'ModifyDate', 'PriceType', 'InteriorFloors', 'url_link'],\n",
       "      dtype='object')"
      ]
     },
     "execution_count": 30,
     "metadata": {},
     "output_type": "execute_result"
    }
   ],
   "source": [
    "df = pd.read_csv('web_scrapping_bogota.csv')\n",
    "df.columns"
   ]
  },
  {
   "cell_type": "code",
   "execution_count": 31,
   "metadata": {},
   "outputs": [
    {
     "data": {
      "text/plain": [
       "22       https://www.fincaraiz.com.co/apartamento-en-ve...\n",
       "34       https://www.fincaraiz.com.co/apartamento-en-ve...\n",
       "41       https://www.fincaraiz.com.co/apartamento-en-ve...\n",
       "63       https://www.fincaraiz.com.co/casa-en-venta/bog...\n",
       "133      https://www.fincaraiz.com.co/casa-en-venta/bog...\n",
       "                               ...                        \n",
       "98375    https://www.fincaraiz.com.co/apartamento-en-ve...\n",
       "98389    https://www.fincaraiz.com.co/apartamento-en-ve...\n",
       "98401    https://www.fincaraiz.com.co/casa-en-venta/bog...\n",
       "98446    https://www.fincaraiz.com.co/apartamento-en-ve...\n",
       "98464    https://www.fincaraiz.com.co/apartamento-en-ve...\n",
       "Name: url_link, Length: 10648, dtype: object"
      ]
     },
     "execution_count": 31,
     "metadata": {},
     "output_type": "execute_result"
    }
   ],
   "source": [
    "df_export = df[df['Price'] > 1000000000]['url_link']\n",
    "df_export.to_csv('/home/shade/Desktop/links.csv')"
   ]
  },
  {
   "cell_type": "code",
   "execution_count": 21,
   "metadata": {},
   "outputs": [
    {
     "data": {
      "text/plain": [
       "0        175000000.0\n",
       "1        900000000.0\n",
       "2        182985500.0\n",
       "3        245000000.0\n",
       "4        215000000.0\n",
       "            ...     \n",
       "98516    750000000.0\n",
       "98517    750000000.0\n",
       "98518    750000000.0\n",
       "98519    750000000.0\n",
       "98520    750000000.0\n",
       "Name: Price, Length: 98521, dtype: float64"
      ]
     },
     "execution_count": 21,
     "metadata": {},
     "output_type": "execute_result"
    }
   ],
   "source": [
    "df['Price']"
   ]
  }
 ],
 "metadata": {
  "kernelspec": {
   "display_name": "Python 3",
   "language": "python",
   "name": "python3"
  },
  "language_info": {
   "codemirror_mode": {
    "name": "ipython",
    "version": 3
   },
   "file_extension": ".py",
   "mimetype": "text/x-python",
   "name": "python",
   "nbconvert_exporter": "python",
   "pygments_lexer": "ipython3",
   "version": "3.7.3"
  }
 },
 "nbformat": 4,
 "nbformat_minor": 2
}
