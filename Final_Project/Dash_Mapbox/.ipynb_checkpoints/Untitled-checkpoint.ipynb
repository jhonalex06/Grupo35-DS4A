{
 "cells": [
  {
   "cell_type": "code",
   "execution_count": 19,
   "metadata": {},
   "outputs": [],
   "source": [
    "import pandas as pd\n",
    "import geopandas as gpd\n",
    "import plotly.plotly as py"
   ]
  },
  {
   "cell_type": "code",
   "execution_count": 2,
   "metadata": {},
   "outputs": [],
   "source": [
    "df = pd.read_csv('/home/shade/DS4A/Grupo35-DS4A/Final_Project/Web_Scrapping/Finca_Raiz/Data_counts_sales_by_sector/count_bog_by_man_3.csv')"
   ]
  },
  {
   "cell_type": "code",
   "execution_count": 9,
   "metadata": {},
   "outputs": [
    {
     "data": {
      "text/plain": [
       "(1167, 4)"
      ]
     },
     "execution_count": 9,
     "metadata": {},
     "output_type": "execute_result"
    }
   ],
   "source": [
    "df.shape"
   ]
  },
  {
   "cell_type": "code",
   "execution_count": 5,
   "metadata": {},
   "outputs": [],
   "source": [
    "sca = gpd.read_file('/home/shade/DS4A/Data/Dataset/Shapes/SCat.shp')"
   ]
  },
  {
   "cell_type": "code",
   "execution_count": 10,
   "metadata": {},
   "outputs": [
    {
     "data": {
      "text/html": [
       "<div>\n",
       "<style scoped>\n",
       "    .dataframe tbody tr th:only-of-type {\n",
       "        vertical-align: middle;\n",
       "    }\n",
       "\n",
       "    .dataframe tbody tr th {\n",
       "        vertical-align: top;\n",
       "    }\n",
       "\n",
       "    .dataframe thead th {\n",
       "        text-align: right;\n",
       "    }\n",
       "</style>\n",
       "<table border=\"1\" class=\"dataframe\">\n",
       "  <thead>\n",
       "    <tr style=\"text-align: right;\">\n",
       "      <th></th>\n",
       "      <th>SCaCodigo</th>\n",
       "      <th>SCaNombre</th>\n",
       "      <th>geometry</th>\n",
       "    </tr>\n",
       "  </thead>\n",
       "  <tbody>\n",
       "    <tr>\n",
       "      <th>0</th>\n",
       "      <td>205109</td>\n",
       "      <td>LA MAGDALENA I</td>\n",
       "      <td>POLYGON ((-74.15608 4.65791, -74.15563 4.65746...</td>\n",
       "    </tr>\n",
       "    <tr>\n",
       "      <th>1</th>\n",
       "      <td>205227</td>\n",
       "      <td>OSORIO IX</td>\n",
       "      <td>POLYGON ((-74.17087 4.65701, -74.17088 4.65699...</td>\n",
       "    </tr>\n",
       "    <tr>\n",
       "      <th>2</th>\n",
       "      <td>208128</td>\n",
       "      <td>TORCA II</td>\n",
       "      <td>POLYGON ((-74.02645 4.81365, -74.02640 4.81364...</td>\n",
       "    </tr>\n",
       "    <tr>\n",
       "      <th>3</th>\n",
       "      <td>105203</td>\n",
       "      <td>OSORIO II</td>\n",
       "      <td>POLYGON ((-74.16310 4.65904, -74.16221 4.65762...</td>\n",
       "    </tr>\n",
       "    <tr>\n",
       "      <th>4</th>\n",
       "      <td>201109</td>\n",
       "      <td>INGEMAR I</td>\n",
       "      <td>POLYGON ((-74.05547 4.64093, -74.05531 4.64034...</td>\n",
       "    </tr>\n",
       "  </tbody>\n",
       "</table>\n",
       "</div>"
      ],
      "text/plain": [
       "  SCaCodigo       SCaNombre                                           geometry\n",
       "0    205109  LA MAGDALENA I  POLYGON ((-74.15608 4.65791, -74.15563 4.65746...\n",
       "1    205227       OSORIO IX  POLYGON ((-74.17087 4.65701, -74.17088 4.65699...\n",
       "2    208128        TORCA II  POLYGON ((-74.02645 4.81365, -74.02640 4.81364...\n",
       "3    105203       OSORIO II  POLYGON ((-74.16310 4.65904, -74.16221 4.65762...\n",
       "4    201109       INGEMAR I  POLYGON ((-74.05547 4.64093, -74.05531 4.64034..."
      ]
     },
     "execution_count": 10,
     "metadata": {},
     "output_type": "execute_result"
    }
   ],
   "source": [
    "sca.head()"
   ]
  },
  {
   "cell_type": "code",
   "execution_count": 32,
   "metadata": {},
   "outputs": [
    {
     "data": {
      "text/plain": [
       "[{'type': 'choropleth', 'autocolorscale': False, 'locations': 0       205109\n",
       "  1       205227\n",
       "  2       208128\n",
       "  3       105203\n",
       "  4       201109\n",
       "           ...  \n",
       "  1162    102406\n",
       "  1163    108103\n",
       "  1164    008504\n",
       "  1165    006525\n",
       "  1166    105403\n",
       "  Name: SCaCodigo, Length: 1167, dtype: object, 'z': 0        74\n",
       "  1         1\n",
       "  2         4\n",
       "  3         2\n",
       "  4         1\n",
       "         ... \n",
       "  1162      0\n",
       "  1163      4\n",
       "  1164      4\n",
       "  1165    108\n",
       "  1166      0\n",
       "  Name: count, Length: 1167, dtype: int64, 'locationmode': 'USA-states', 'text': 0                 LA MAGDALENA I\n",
       "  1                      OSORIO IX\n",
       "  2                       TORCA II\n",
       "  3                      OSORIO II\n",
       "  4                      INGEMAR I\n",
       "                    ...           \n",
       "  1162           EL BOSQUE CENTRAL\n",
       "  1163    BARRANCAS ORIENTAL RURAL\n",
       "  1164                     LA CITA\n",
       "  1165                 EL CHANCO I\n",
       "  1166         EL CHANCO RURAL III\n",
       "  Name: SCaNombre, Length: 1167, dtype: object, 'colorscale': 'YlGnBu', 'colorbar': {'title': 'Number ventas'}}]"
      ]
     },
     "execution_count": 32,
     "metadata": {},
     "output_type": "execute_result"
    }
   ],
   "source": [
    "data = [dict(type='choropleth', autocolorscale=False, locations=sca['SCaCodigo'], z=df['count'],\n",
    "        locationmode = 'USA-states', text = sca['SCaNombre'], colorscale = 'YlGnBu', colorbar = dict(title='Number ventas'))]\n",
    "data"
   ]
  },
  {
   "cell_type": "code",
   "execution_count": 29,
   "metadata": {},
   "outputs": [
    {
     "data": {
      "text/plain": [
       "{'title': 'Ejemplo mapas',\n",
       " 'geo': {'scope': 'south america',\n",
       "  'projection': {'type': 'albers usa'},\n",
       "  'showlakes': True,\n",
       "  'lakecolor': 'rgb(66, 165, 245)'}}"
      ]
     },
     "execution_count": 29,
     "metadata": {},
     "output_type": "execute_result"
    }
   ],
   "source": [
    "layout = dict(title='Ejemplo mapas', geo=dict(scope = 'south america', projection=dict(type='albers usa'), showlakes = True, lakecolor = 'rgb(66, 165, 245)'))\n",
    "layout"
   ]
  },
  {
   "cell_type": "code",
   "execution_count": 46,
   "metadata": {},
   "outputs": [
    {
     "name": "stdout",
     "output_type": "stream",
     "text": [
      "Requirement already up-to-date: plotly in /home/shade/.local/lib/python2.7/site-packages (4.3.0)\n",
      "Requirement already satisfied, skipping upgrade: six in /usr/lib/python2.7/dist-packages (from plotly) (1.12.0)\n",
      "Requirement already satisfied, skipping upgrade: retrying>=1.3.3 in /home/shade/.local/lib/python2.7/site-packages (from plotly) (1.3.3)\n"
     ]
    }
   ],
   "source": [
    "!pip install plotly --upgrade"
   ]
  },
  {
   "cell_type": "code",
   "execution_count": 47,
   "metadata": {},
   "outputs": [
    {
     "ename": "ValueError",
     "evalue": "\n    Invalid value of type 'plotly.graph_objs.Choropleth' received for the 'data' property of \n        Received value: Choropleth({\n    'colorbar': {'title': {'text': 'Millions USD'}},\n    'colorscale': 'Reds',\n    'locationmode': 'USA-states',\n    'locations': array(['AL', 'AK', 'AZ', 'AR', 'CA', 'CO', 'CT', 'DE', 'FL', 'GA', 'HI', 'ID',\n                        'IL', 'IN', 'IA', 'KS', 'KY', 'LA', 'ME', 'MD', 'MA', 'MI', 'MN', 'MS',\n                        'MO', 'MT', 'NE', 'NV', 'NH', 'NJ', 'NM', 'NY', 'NC', 'ND', 'OH', 'OK',\n                        'OR', 'PA', 'RI', 'SC', 'SD', 'TN', 'TX', 'UT', 'VT', 'VA', 'WA', 'WV',\n                        'WI', 'WY'], dtype=object),\n    'z': array([1.390630e+03, 1.331000e+01, 1.463170e+03, 3.586020e+03, 1.647288e+04,\n                1.851330e+03, 2.596200e+02, 2.821900e+02, 3.764090e+03, 2.860840e+03,\n                4.018400e+02, 2.078890e+03, 8.709480e+03, 5.050230e+03, 1.127376e+04,\n                4.589010e+03, 1.889150e+03, 1.914230e+03, 2.783700e+02, 6.927500e+02,\n                2.486500e+02, 3.164160e+03, 7.192330e+03, 2.170800e+03, 3.933420e+03,\n                1.718000e+03, 7.114130e+03, 1.398900e+02, 7.306000e+01, 5.004000e+02,\n                7.515800e+02, 1.488900e+03, 3.806050e+03, 3.761960e+03, 3.979790e+03,\n                1.646410e+03, 1.794570e+03, 1.969870e+03, 3.159000e+01, 9.299300e+02,\n                3.770190e+03, 1.535130e+03, 6.648220e+03, 4.533900e+02, 1.801400e+02,\n                1.146480e+03, 3.894810e+03, 1.388900e+02, 3.090230e+03, 3.496900e+02])\n})\n\n    The 'data' property is a tuple of trace instances\n    that may be specified as:\n      - A list or tuple of trace instances\n        (e.g. [Scatter(...), Bar(...)])\n      - A list or tuple of dicts of string/value properties where:\n        - The 'type' property specifies the trace type\n            One of: ['area', 'bar', 'barpolar', 'box',\n                     'candlestick', 'carpet', 'choropleth', 'cone',\n                     'contour', 'contourcarpet', 'funnel',\n                     'funnelarea', 'heatmap', 'heatmapgl',\n                     'histogram', 'histogram2d',\n                     'histogram2dcontour', 'isosurface', 'mesh3d',\n                     'ohlc', 'parcats', 'parcoords', 'pie',\n                     'pointcloud', 'sankey', 'scatter',\n                     'scatter3d', 'scattercarpet', 'scattergeo',\n                     'scattergl', 'scattermapbox', 'scatterpolar',\n                     'scatterpolargl', 'scatterternary', 'splom',\n                     'streamtube', 'sunburst', 'surface', 'table',\n                     'violin', 'volume', 'waterfall']\n\n        - All remaining properties are passed to the constructor of\n          the specified trace type\n\n        (e.g. [{'type': 'scatter', ...}, {'type': 'bar, ...}])",
     "output_type": "error",
     "traceback": [
      "\u001b[0;31m---------------------------------------------------------------------------\u001b[0m",
      "\u001b[0;31mValueError\u001b[0m                                Traceback (most recent call last)",
      "\u001b[0;32m<ipython-input-47-003f3113a7ea>\u001b[0m in \u001b[0;36m<module>\u001b[0;34m\u001b[0m\n\u001b[1;32m     10\u001b[0m     \u001b[0mlocationmode\u001b[0m \u001b[0;34m=\u001b[0m \u001b[0;34m'USA-states'\u001b[0m\u001b[0;34m,\u001b[0m \u001b[0;31m# set of locations match entries in `locations`\u001b[0m\u001b[0;34m\u001b[0m\u001b[0;34m\u001b[0m\u001b[0m\n\u001b[1;32m     11\u001b[0m     \u001b[0mcolorscale\u001b[0m \u001b[0;34m=\u001b[0m \u001b[0;34m'Reds'\u001b[0m\u001b[0;34m,\u001b[0m\u001b[0;34m\u001b[0m\u001b[0;34m\u001b[0m\u001b[0m\n\u001b[0;32m---> 12\u001b[0;31m     \u001b[0mcolorbar_title\u001b[0m \u001b[0;34m=\u001b[0m \u001b[0;34m\"Millions USD\"\u001b[0m\u001b[0;34m,\u001b[0m\u001b[0;34m\u001b[0m\u001b[0;34m\u001b[0m\u001b[0m\n\u001b[0m\u001b[1;32m     13\u001b[0m ))\n\u001b[1;32m     14\u001b[0m \u001b[0;34m\u001b[0m\u001b[0m\n",
      "\u001b[0;32m~/.local/lib/python3.7/site-packages/plotly/graph_objs/_figure.py\u001b[0m in \u001b[0;36m__init__\u001b[0;34m(self, data, layout, frames, skip_invalid, **kwargs)\u001b[0m\n\u001b[1;32m    550\u001b[0m         \"\"\"\n\u001b[1;32m    551\u001b[0m         super(Figure,\n\u001b[0;32m--> 552\u001b[0;31m               self).__init__(data, layout, frames, skip_invalid, **kwargs)\n\u001b[0m\u001b[1;32m    553\u001b[0m \u001b[0;34m\u001b[0m\u001b[0m\n\u001b[1;32m    554\u001b[0m     def add_area(\n",
      "\u001b[0;32m~/.local/lib/python3.7/site-packages/plotly/basedatatypes.py\u001b[0m in \u001b[0;36m__init__\u001b[0;34m(self, data, layout_plotly, frames, skip_invalid, **kwargs)\u001b[0m\n\u001b[1;32m    154\u001b[0m         \u001b[0;31m# ### Import traces ###\u001b[0m\u001b[0;34m\u001b[0m\u001b[0;34m\u001b[0m\u001b[0;34m\u001b[0m\u001b[0m\n\u001b[1;32m    155\u001b[0m         data = self._data_validator.validate_coerce(data,\n\u001b[0;32m--> 156\u001b[0;31m                                                     skip_invalid=skip_invalid)\n\u001b[0m\u001b[1;32m    157\u001b[0m \u001b[0;34m\u001b[0m\u001b[0m\n\u001b[1;32m    158\u001b[0m         \u001b[0;31m# ### Save tuple of trace objects ###\u001b[0m\u001b[0;34m\u001b[0m\u001b[0;34m\u001b[0m\u001b[0;34m\u001b[0m\u001b[0m\n",
      "\u001b[0;32m~/.local/lib/python3.7/site-packages/_plotly_utils/basevalidators.py\u001b[0m in \u001b[0;36mvalidate_coerce\u001b[0;34m(self, v, skip_invalid)\u001b[0m\n\u001b[1;32m   2358\u001b[0m                 \u001b[0mv\u001b[0m \u001b[0;34m=\u001b[0m \u001b[0;34m[\u001b[0m\u001b[0;34m]\u001b[0m\u001b[0;34m\u001b[0m\u001b[0;34m\u001b[0m\u001b[0m\n\u001b[1;32m   2359\u001b[0m             \u001b[0;32melse\u001b[0m\u001b[0;34m:\u001b[0m\u001b[0;34m\u001b[0m\u001b[0;34m\u001b[0m\u001b[0m\n\u001b[0;32m-> 2360\u001b[0;31m                 \u001b[0mself\u001b[0m\u001b[0;34m.\u001b[0m\u001b[0mraise_invalid_val\u001b[0m\u001b[0;34m(\u001b[0m\u001b[0mv\u001b[0m\u001b[0;34m)\u001b[0m\u001b[0;34m\u001b[0m\u001b[0;34m\u001b[0m\u001b[0m\n\u001b[0m\u001b[1;32m   2361\u001b[0m \u001b[0;34m\u001b[0m\u001b[0m\n\u001b[1;32m   2362\u001b[0m         \u001b[0;32mreturn\u001b[0m \u001b[0mv\u001b[0m\u001b[0;34m\u001b[0m\u001b[0;34m\u001b[0m\u001b[0m\n",
      "\u001b[0;32m~/.local/lib/python3.7/site-packages/_plotly_utils/basevalidators.py\u001b[0m in \u001b[0;36mraise_invalid_val\u001b[0;34m(self, v, inds)\u001b[0m\n\u001b[1;32m    275\u001b[0m             \u001b[0mtyp\u001b[0m\u001b[0;34m=\u001b[0m\u001b[0mtype_str\u001b[0m\u001b[0;34m(\u001b[0m\u001b[0mv\u001b[0m\u001b[0;34m)\u001b[0m\u001b[0;34m,\u001b[0m\u001b[0;34m\u001b[0m\u001b[0;34m\u001b[0m\u001b[0m\n\u001b[1;32m    276\u001b[0m             \u001b[0mv\u001b[0m\u001b[0;34m=\u001b[0m\u001b[0mrepr\u001b[0m\u001b[0;34m(\u001b[0m\u001b[0mv\u001b[0m\u001b[0;34m)\u001b[0m\u001b[0;34m,\u001b[0m\u001b[0;34m\u001b[0m\u001b[0;34m\u001b[0m\u001b[0m\n\u001b[0;32m--> 277\u001b[0;31m             valid_clr_desc=self.description()))\n\u001b[0m\u001b[1;32m    278\u001b[0m \u001b[0;34m\u001b[0m\u001b[0m\n\u001b[1;32m    279\u001b[0m     \u001b[0;32mdef\u001b[0m \u001b[0mraise_invalid_elements\u001b[0m\u001b[0;34m(\u001b[0m\u001b[0mself\u001b[0m\u001b[0;34m,\u001b[0m \u001b[0minvalid_els\u001b[0m\u001b[0;34m)\u001b[0m\u001b[0;34m:\u001b[0m\u001b[0;34m\u001b[0m\u001b[0;34m\u001b[0m\u001b[0m\n",
      "\u001b[0;31mValueError\u001b[0m: \n    Invalid value of type 'plotly.graph_objs.Choropleth' received for the 'data' property of \n        Received value: Choropleth({\n    'colorbar': {'title': {'text': 'Millions USD'}},\n    'colorscale': 'Reds',\n    'locationmode': 'USA-states',\n    'locations': array(['AL', 'AK', 'AZ', 'AR', 'CA', 'CO', 'CT', 'DE', 'FL', 'GA', 'HI', 'ID',\n                        'IL', 'IN', 'IA', 'KS', 'KY', 'LA', 'ME', 'MD', 'MA', 'MI', 'MN', 'MS',\n                        'MO', 'MT', 'NE', 'NV', 'NH', 'NJ', 'NM', 'NY', 'NC', 'ND', 'OH', 'OK',\n                        'OR', 'PA', 'RI', 'SC', 'SD', 'TN', 'TX', 'UT', 'VT', 'VA', 'WA', 'WV',\n                        'WI', 'WY'], dtype=object),\n    'z': array([1.390630e+03, 1.331000e+01, 1.463170e+03, 3.586020e+03, 1.647288e+04,\n                1.851330e+03, 2.596200e+02, 2.821900e+02, 3.764090e+03, 2.860840e+03,\n                4.018400e+02, 2.078890e+03, 8.709480e+03, 5.050230e+03, 1.127376e+04,\n                4.589010e+03, 1.889150e+03, 1.914230e+03, 2.783700e+02, 6.927500e+02,\n                2.486500e+02, 3.164160e+03, 7.192330e+03, 2.170800e+03, 3.933420e+03,\n                1.718000e+03, 7.114130e+03, 1.398900e+02, 7.306000e+01, 5.004000e+02,\n                7.515800e+02, 1.488900e+03, 3.806050e+03, 3.761960e+03, 3.979790e+03,\n                1.646410e+03, 1.794570e+03, 1.969870e+03, 3.159000e+01, 9.299300e+02,\n                3.770190e+03, 1.535130e+03, 6.648220e+03, 4.533900e+02, 1.801400e+02,\n                1.146480e+03, 3.894810e+03, 1.388900e+02, 3.090230e+03, 3.496900e+02])\n})\n\n    The 'data' property is a tuple of trace instances\n    that may be specified as:\n      - A list or tuple of trace instances\n        (e.g. [Scatter(...), Bar(...)])\n      - A list or tuple of dicts of string/value properties where:\n        - The 'type' property specifies the trace type\n            One of: ['area', 'bar', 'barpolar', 'box',\n                     'candlestick', 'carpet', 'choropleth', 'cone',\n                     'contour', 'contourcarpet', 'funnel',\n                     'funnelarea', 'heatmap', 'heatmapgl',\n                     'histogram', 'histogram2d',\n                     'histogram2dcontour', 'isosurface', 'mesh3d',\n                     'ohlc', 'parcats', 'parcoords', 'pie',\n                     'pointcloud', 'sankey', 'scatter',\n                     'scatter3d', 'scattercarpet', 'scattergeo',\n                     'scattergl', 'scattermapbox', 'scatterpolar',\n                     'scatterpolargl', 'scatterternary', 'splom',\n                     'streamtube', 'sunburst', 'surface', 'table',\n                     'violin', 'volume', 'waterfall']\n\n        - All remaining properties are passed to the constructor of\n          the specified trace type\n\n        (e.g. [{'type': 'scatter', ...}, {'type': 'bar, ...}])"
     ]
    }
   ],
   "source": [
    "#import plotly.graph_objects as go\n",
    "from plotly import graph_objs as go\n",
    "# Load data frame and tidy it.\n",
    "import pandas as pd\n",
    "df = pd.read_csv('https://raw.githubusercontent.com/plotly/datasets/master/2011_us_ag_exports.csv')\n",
    "\n",
    "fig = go.Figure(data=go.Choropleth(\n",
    "    locations=df['code'], # Spatial coordinates\n",
    "    z = df['total exports'].astype(float), # Data to be color-coded\n",
    "    locationmode = 'USA-states', # set of locations match entries in `locations`\n",
    "    colorscale = 'Reds',\n",
    "    colorbar_title = \"Millions USD\",\n",
    "))\n",
    "\n",
    "fig.update_layout(\n",
    "    title_text = '2011 US Agriculture Exports by State',\n",
    "    geo_scope='usa', # limite map scope to USA\n",
    ")\n",
    "\n",
    "fig.show()"
   ]
  }
 ],
 "metadata": {
  "kernelspec": {
   "display_name": "Python 3",
   "language": "python",
   "name": "python3"
  },
  "language_info": {
   "codemirror_mode": {
    "name": "ipython",
    "version": 3
   },
   "file_extension": ".py",
   "mimetype": "text/x-python",
   "name": "python",
   "nbconvert_exporter": "python",
   "pygments_lexer": "ipython3",
   "version": "3.7.5rc1"
  }
 },
 "nbformat": 4,
 "nbformat_minor": 4
}
