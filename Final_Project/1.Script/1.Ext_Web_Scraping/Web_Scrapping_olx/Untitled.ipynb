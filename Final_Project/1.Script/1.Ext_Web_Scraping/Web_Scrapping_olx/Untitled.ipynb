{
 "cells": [
  {
   "cell_type": "code",
   "execution_count": 1,
   "metadata": {},
   "outputs": [],
   "source": [
    "# Libraries needed for basic web-scraping\n",
    "from IPython.core.display import HTML\n",
    "from bs4 import BeautifulSoup\n",
    "from IPython.display import IFrame\n",
    "import urllib # package required to interact with live webpage\n",
    "import requests\n",
    "import pandas as pd\n",
    "import ast# will use to store the data from the webpage\n",
    "import csv\n",
    "import time"
   ]
  },
  {
   "cell_type": "code",
   "execution_count": 4,
   "metadata": {},
   "outputs": [],
   "source": [
    "site_url = 'https://bogotacity.olx.com.co/apartamentos-casas-venta-cat-367-p-3'\n",
    "r = requests.get(site_url, 'html.parser')\n",
    "soup = BeautifulSoup(r.content)\n",
    "\n",
    "links = soup.find_all('a',{\"data-qa\":\"list-item\"})\n",
    "\n",
    "path = []\n",
    "\n",
    "for i in links:\n",
    "    path.append(i.get('href').strip('//'))\n",
    "\n",
    "path.sort()\n",
    "path = list(set(path))\n",
    "\n",
    "site_url = 'https://{}'.format(path[0])\n",
    "r = requests.get(site_url, 'html.parser')\n",
    "soup = BeautifulSoup(r.content)"
   ]
  },
  {
   "cell_type": "code",
   "execution_count": 5,
   "metadata": {},
   "outputs": [],
   "source": [
    "with open('url.txt', 'w', encoding='utf-8') as f_out:\n",
    "    f_out.write(soup.prettify())"
   ]
  }
 ],
 "metadata": {
  "kernelspec": {
   "display_name": "Python 3",
   "language": "python",
   "name": "python3"
  },
  "language_info": {
   "codemirror_mode": {
    "name": "ipython",
    "version": 3
   },
   "file_extension": ".py",
   "mimetype": "text/x-python",
   "name": "python",
   "nbconvert_exporter": "python",
   "pygments_lexer": "ipython3",
   "version": "3.7.5rc1"
  }
 },
 "nbformat": 4,
 "nbformat_minor": 4
}
