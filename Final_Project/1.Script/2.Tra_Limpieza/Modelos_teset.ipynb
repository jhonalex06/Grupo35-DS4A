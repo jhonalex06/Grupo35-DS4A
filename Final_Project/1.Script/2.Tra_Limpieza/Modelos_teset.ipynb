{
 "cells": [
  {
   "cell_type": "code",
   "execution_count": 219,
   "metadata": {},
   "outputs": [],
   "source": [
    "import pandas as pd\n",
    "import numpy as np\n",
    "from sklearn import linear_model\n",
    "from sklearn.preprocessing import LabelEncoder\n",
    "from sklearn.model_selection import train_test_split\n",
    "from sklearn.ensemble import RandomForestRegressor\n",
    "import statsmodels.formula.api as smf"
   ]
  },
  {
   "cell_type": "code",
   "execution_count": 249,
   "metadata": {},
   "outputs": [
    {
     "data": {
      "text/plain": [
       "Index(['area', 'edad', 'estrato', 'extras', 'latitude', 'longitude',\n",
       "       'num_banos', 'num_garages', 'numero_habitaciones', 'piso_interior',\n",
       "       'piso_ubicacion', 'precio', 'precio_administracion', 'tipo_inmueble',\n",
       "       'sector_catastral', 'SCaTipo', 'CountHospedaje', 'CountBibliotecas',\n",
       "       'CountCanchasSinteticas', 'CountCicloParqueadero', 'CountColegios',\n",
       "       'CountConsultorios', 'CountEPS', 'CountFarmacia', 'CountBomberos',\n",
       "       'CountIPS', 'CountIPSAtencionInfantil', 'CountVacunacionInfantil',\n",
       "       'CountMuseos', 'CountSITP', 'CountParquesUrbanos',\n",
       "       'CountUnidadServicioSalud', 'CountTeatros', 'LocNombre',\n",
       "       'CountRestaurantes', 'CountIglesias', 'CountCAIS',\n",
       "       'CountGastronomiaBar', 'CountDelitosSexuales', 'CountHurtos', 'zona'],\n",
       "      dtype='object')"
      ]
     },
     "execution_count": 249,
     "metadata": {},
     "output_type": "execute_result"
    }
   ],
   "source": [
    "data_to_train_full = pd.read_csv(\"../../2.Export/2.Final/data_to_train_1.csv\")\n",
    "data_to_train_full = data_to_train_full.drop(['Unnamed: 0','log_precio','id_inmueble','SCaCodigo','LocCodigo','descripcion','log_area'],axis='columns')\n",
    "data_to_train_full.columns"
   ]
  },
  {
   "cell_type": "code",
   "execution_count": 212,
   "metadata": {},
   "outputs": [],
   "source": [
    "cols = ['edad','extras','tipo_inmueble','sector_catastral','SCaTipo','LocNombre','zona']\n",
    "for c in cols:\n",
    "    lbl = LabelEncoder() \n",
    "    lbl.fit(list(data_to_train_full[c].values)) \n",
    "    data_to_train_full[c] = lbl.transform(list(data_to_train_full[c].values))"
   ]
  },
  {
   "cell_type": "code",
   "execution_count": 250,
   "metadata": {},
   "outputs": [],
   "source": [
    "data_to_train = data_to_train_full.copy()\n",
    "# cols_drop = ['CountHospedaje', 'CountBibliotecas',\n",
    "#        'CountCanchasSinteticas', 'CountCicloParqueadero', 'CountColegios',\n",
    "#        'CountConsultorios', 'CountEPS', 'CountFarmacia', 'CountGastronomiaBar',\n",
    "#        'CountBomberos', 'CountIPS', 'CountIPSAtencionInfantil',\n",
    "#        'CountVacunacionInfantil', 'CountMuseos', 'CountSITP',\n",
    "#        'CountParquesUrbanos', 'CountUnidadServicioSalud', 'CountTeatros',\n",
    "#              'CountRestaurantes', 'CountDelitosSexuales', 'CountHurtos',\n",
    "#        'CountIglesias', 'CountCAIS',\n",
    "#              'SCaTipo','LocNombre','extras','precio_administracion','area','latitude', 'longitude',\n",
    "#             'sector_catastral','zona','tipo_inmueble','numero_habitaciones',\n",
    "#             'edad', 'num_garages','num_banos','piso_interior', 'piso_ubicacion' ]\n",
    "# # cols_drop = ['num_garages']\n",
    "# data_to_train = data_to_train.drop(cols_drop,axis='columns')\n",
    "\n",
    "#data_to_train.columns"
   ]
  },
  {
   "cell_type": "code",
   "execution_count": 196,
   "metadata": {},
   "outputs": [
    {
     "data": {
      "text/plain": [
       "LinearRegression(copy_X=True, fit_intercept=True, n_jobs=None, normalize=False)"
      ]
     },
     "execution_count": 196,
     "metadata": {},
     "output_type": "execute_result"
    }
   ],
   "source": [
    "model1 = linear_model.LinearRegression()\n",
    "y = data_to_train['precio']\n",
    "del data_to_train['precio']\n",
    "X = data_to_train.values\n",
    "y = y.values\n",
    "X_train, X_test, y_train, y_test = train_test_split(X, y, test_size=0.2, random_state=7)\n",
    "model1.fit(X_train, y_train)\n"
   ]
  },
  {
   "cell_type": "code",
   "execution_count": 204,
   "metadata": {},
   "outputs": [
    {
     "name": "stdout",
     "output_type": "stream",
     "text": [
      "Predict value [8.02889513e+08]\n",
      "Real value 1050000000.0\n",
      "Accuracy -->  54.8363397089235\n"
     ]
    }
   ],
   "source": [
    "print(\"Predict value \" + str((model1.predict([X_test[142]]))))\n",
    "print(\"Real value \" + str((y_test[142])))\n",
    "print(\"Accuracy --> \", model1.score(X_test, y_test)*100)"
   ]
  },
  {
   "cell_type": "code",
   "execution_count": 217,
   "metadata": {},
   "outputs": [
    {
     "name": "stdout",
     "output_type": "stream",
     "text": [
      "Accuracy -->  90.39937247566382\n"
     ]
    }
   ],
   "source": [
    "model2 = RandomForestRegressor(n_estimators=100)\n",
    "model2.fit(X_train, y_train)\n",
    "print(\"Accuracy --> \", model2.score(X_test, y_test)*100)\n"
   ]
  },
  {
   "cell_type": "code",
   "execution_count": 218,
   "metadata": {},
   "outputs": [
    {
     "name": "stdout",
     "output_type": "stream",
     "text": [
      "Predict value 1196433000.0\n",
      "Real value 1050000000.0\n"
     ]
    }
   ],
   "source": [
    "print(\"Predict value \" + str(float(model2.predict([X_test[142]]))))\n",
    "print(\"Real value \" + str((y_test[142])))"
   ]
  },
  {
   "cell_type": "code",
   "execution_count": 251,
   "metadata": {},
   "outputs": [
    {
     "name": "stdout",
     "output_type": "stream",
     "text": [
      "(71176, 41)\n",
      "(17795, 41)\n"
     ]
    }
   ],
   "source": [
    "np.random.seed(2019) # a seed makes the analysis reproducible\n",
    "                     # so everyone will get the same results\n",
    "ndata = len(data_to_train)\n",
    "# Randomly choose 0.8n indices between 1 and n\n",
    "idx_train = np.random.choice(range(ndata),int(0.8*ndata),replace=False)\n",
    "# The test set is comprised from all the indices that were\n",
    "# not selected in the training set:\n",
    "idx_test  = np.asarray(list(set(range(ndata)) - set(idx_train)))\n",
    "train     = data_to_train.iloc[idx_train] # the training data set\n",
    "test      = data_to_train.iloc[idx_test]  # the test data set\n",
    "print(train.shape) # 19,312 rows and 19 columns\n",
    "print(test.shape)  #  4,829 rows and 19 columns"
   ]
  },
  {
   "cell_type": "code",
   "execution_count": 256,
   "metadata": {},
   "outputs": [
    {
     "data": {
      "text/html": [
       "<table class=\"simpletable\">\n",
       "<caption>OLS Regression Results</caption>\n",
       "<tr>\n",
       "  <th>Dep. Variable:</th>         <td>precio</td>      <th>  R-squared:         </th>  <td>   0.524</td>  \n",
       "</tr>\n",
       "<tr>\n",
       "  <th>Model:</th>                   <td>OLS</td>       <th>  Adj. R-squared:    </th>  <td>   0.524</td>  \n",
       "</tr>\n",
       "<tr>\n",
       "  <th>Method:</th>             <td>Least Squares</td>  <th>  F-statistic:       </th>  <td>   1398.</td>  \n",
       "</tr>\n",
       "<tr>\n",
       "  <th>Date:</th>             <td>Sat, 07 Dec 2019</td> <th>  Prob (F-statistic):</th>   <td>  0.00</td>   \n",
       "</tr>\n",
       "<tr>\n",
       "  <th>Time:</th>                 <td>18:43:11</td>     <th>  Log-Likelihood:    </th> <td>-1.5398e+06</td>\n",
       "</tr>\n",
       "<tr>\n",
       "  <th>No. Observations:</th>      <td> 71174</td>      <th>  AIC:               </th>  <td>3.080e+06</td> \n",
       "</tr>\n",
       "<tr>\n",
       "  <th>Df Residuals:</th>          <td> 71117</td>      <th>  BIC:               </th>  <td>3.080e+06</td> \n",
       "</tr>\n",
       "<tr>\n",
       "  <th>Df Model:</th>              <td>    56</td>      <th>                     </th>      <td> </td>     \n",
       "</tr>\n",
       "<tr>\n",
       "  <th>Covariance Type:</th>      <td>nonrobust</td>    <th>                     </th>      <td> </td>     \n",
       "</tr>\n",
       "</table>\n",
       "<table class=\"simpletable\">\n",
       "<tr>\n",
       "                 <td></td>                    <th>coef</th>     <th>std err</th>      <th>t</th>      <th>P>|t|</th>  <th>[0.025</th>    <th>0.975]</th>  \n",
       "</tr>\n",
       "<tr>\n",
       "  <th>Intercept</th>                       <td>-4.575e+08</td> <td> 6.05e+08</td> <td>   -0.757</td> <td> 0.449</td> <td>-1.64e+09</td> <td> 7.28e+08</td>\n",
       "</tr>\n",
       "<tr>\n",
       "  <th>tipo_inmueble[T.Apartamento]</th>    <td> 8.153e+07</td> <td> 2.15e+07</td> <td>    3.789</td> <td> 0.000</td> <td> 3.94e+07</td> <td> 1.24e+08</td>\n",
       "</tr>\n",
       "<tr>\n",
       "  <th>tipo_inmueble[T.Casa]</th>           <td> 2.131e+08</td> <td> 2.29e+07</td> <td>    9.320</td> <td> 0.000</td> <td> 1.68e+08</td> <td> 2.58e+08</td>\n",
       "</tr>\n",
       "<tr>\n",
       "  <th>tipo_inmueble[T.Casa Campestre]</th> <td> 2.225e+08</td> <td> 8.04e+07</td> <td>    2.768</td> <td> 0.006</td> <td> 6.49e+07</td> <td>  3.8e+08</td>\n",
       "</tr>\n",
       "<tr>\n",
       "  <th>tipo_inmueble[T.Casa Lote]</th>      <td> 8.001e+08</td> <td> 4.14e+07</td> <td>   19.311</td> <td> 0.000</td> <td> 7.19e+08</td> <td> 8.81e+08</td>\n",
       "</tr>\n",
       "<tr>\n",
       "  <th>tipo_inmueble[T.Proyecto Nuevo]</th> <td>-1.953e+08</td> <td>  6.8e+07</td> <td>   -2.872</td> <td> 0.004</td> <td>-3.29e+08</td> <td> -6.2e+07</td>\n",
       "</tr>\n",
       "<tr>\n",
       "  <th>edad[T.1 a 8 años]</th>              <td> -2.66e+08</td> <td> 6.03e+08</td> <td>   -0.441</td> <td> 0.659</td> <td>-1.45e+09</td> <td> 9.16e+08</td>\n",
       "</tr>\n",
       "<tr>\n",
       "  <th>edad[T.16 a 30 años]</th>            <td>-3.397e+08</td> <td> 6.03e+08</td> <td>   -0.563</td> <td> 0.573</td> <td>-1.52e+09</td> <td> 8.42e+08</td>\n",
       "</tr>\n",
       "<tr>\n",
       "  <th>edad[T.2]</th>                       <td> 1.664e+07</td> <td> 8.52e+08</td> <td>    0.020</td> <td> 0.984</td> <td>-1.65e+09</td> <td> 1.69e+09</td>\n",
       "</tr>\n",
       "<tr>\n",
       "  <th>edad[T.5]</th>                       <td>-4.061e+08</td> <td> 8.52e+08</td> <td>   -0.477</td> <td> 0.634</td> <td>-2.08e+09</td> <td> 1.26e+09</td>\n",
       "</tr>\n",
       "<tr>\n",
       "  <th>edad[T.9 a 15 años]</th>             <td>-2.937e+08</td> <td> 6.03e+08</td> <td>   -0.487</td> <td> 0.626</td> <td>-1.48e+09</td> <td> 8.88e+08</td>\n",
       "</tr>\n",
       "<tr>\n",
       "  <th>edad[T.Entre 0 y 5 años]</th>        <td>-1.332e+08</td> <td> 6.02e+08</td> <td>   -0.221</td> <td> 0.825</td> <td>-1.31e+09</td> <td> 1.05e+09</td>\n",
       "</tr>\n",
       "<tr>\n",
       "  <th>edad[T.Entre 10 y 20 años]</th>      <td>-2.326e+08</td> <td> 6.02e+08</td> <td>   -0.386</td> <td> 0.699</td> <td>-1.41e+09</td> <td> 9.48e+08</td>\n",
       "</tr>\n",
       "<tr>\n",
       "  <th>edad[T.Entre 5 y 10 años]</th>       <td>-2.169e+08</td> <td> 6.02e+08</td> <td>   -0.360</td> <td> 0.719</td> <td> -1.4e+09</td> <td> 9.64e+08</td>\n",
       "</tr>\n",
       "<tr>\n",
       "  <th>edad[T.Menos de 1 año]</th>          <td>-1.834e+08</td> <td> 6.03e+08</td> <td>   -0.304</td> <td> 0.761</td> <td>-1.37e+09</td> <td> 9.99e+08</td>\n",
       "</tr>\n",
       "<tr>\n",
       "  <th>edad[T.Más de 20 años]</th>          <td>-3.247e+08</td> <td> 6.02e+08</td> <td>   -0.539</td> <td> 0.590</td> <td>-1.51e+09</td> <td> 8.56e+08</td>\n",
       "</tr>\n",
       "<tr>\n",
       "  <th>edad[T.Más de 30 años]</th>          <td>-2.851e+08</td> <td> 6.03e+08</td> <td>   -0.473</td> <td> 0.636</td> <td>-1.47e+09</td> <td> 8.97e+08</td>\n",
       "</tr>\n",
       "<tr>\n",
       "  <th>edad[T.None]</th>                    <td>-1.797e+08</td> <td> 6.03e+08</td> <td>   -0.298</td> <td> 0.766</td> <td>-1.36e+09</td> <td>    1e+09</td>\n",
       "</tr>\n",
       "<tr>\n",
       "  <th>edad[T.Remodelado]</th>              <td> -1.88e+08</td> <td> 6.03e+08</td> <td>   -0.312</td> <td> 0.755</td> <td>-1.37e+09</td> <td> 9.94e+08</td>\n",
       "</tr>\n",
       "<tr>\n",
       "  <th>edad[T.ntre 0 y 5 años]</th>         <td>-4.329e+08</td> <td> 6.29e+08</td> <td>   -0.688</td> <td> 0.491</td> <td>-1.67e+09</td> <td>    8e+08</td>\n",
       "</tr>\n",
       "<tr>\n",
       "  <th>zona[T.Chapinero]</th>               <td> -1.04e+08</td> <td> 3.63e+07</td> <td>   -2.864</td> <td> 0.004</td> <td>-1.75e+08</td> <td>-3.28e+07</td>\n",
       "</tr>\n",
       "<tr>\n",
       "  <th>zona[T.Guaymaral]</th>               <td> 1.722e+08</td> <td> 7.05e+07</td> <td>    2.443</td> <td> 0.015</td> <td>  3.4e+07</td> <td>  3.1e+08</td>\n",
       "</tr>\n",
       "<tr>\n",
       "  <th>zona[T.Noroccidente]</th>            <td>-1.388e+08</td> <td> 3.55e+07</td> <td>   -3.913</td> <td> 0.000</td> <td>-2.08e+08</td> <td>-6.93e+07</td>\n",
       "</tr>\n",
       "<tr>\n",
       "  <th>zona[T.Norte]</th>                   <td> 8.988e+07</td> <td> 3.43e+07</td> <td>    2.618</td> <td> 0.009</td> <td> 2.26e+07</td> <td> 1.57e+08</td>\n",
       "</tr>\n",
       "<tr>\n",
       "  <th>zona[T.Occidental]</th>              <td>-1.772e+08</td> <td>  3.6e+07</td> <td>   -4.927</td> <td> 0.000</td> <td>-2.48e+08</td> <td>-1.07e+08</td>\n",
       "</tr>\n",
       "<tr>\n",
       "  <th>zona[T.Sur]</th>                     <td>-5.076e+07</td> <td> 4.25e+07</td> <td>   -1.195</td> <td> 0.232</td> <td>-1.34e+08</td> <td> 3.25e+07</td>\n",
       "</tr>\n",
       "<tr>\n",
       "  <th>zona[T.Zona Centro]</th>             <td> 4.218e+07</td> <td> 4.33e+07</td> <td>    0.974</td> <td> 0.330</td> <td>-4.27e+07</td> <td> 1.27e+08</td>\n",
       "</tr>\n",
       "<tr>\n",
       "  <th>zona[T.Zona Chapinero]</th>          <td>-1.911e+06</td> <td> 4.39e+07</td> <td>   -0.043</td> <td> 0.965</td> <td> -8.8e+07</td> <td> 8.42e+07</td>\n",
       "</tr>\n",
       "<tr>\n",
       "  <th>zona[T.Zona Noroccidente]</th>       <td>-1.125e+08</td> <td> 4.34e+07</td> <td>   -2.593</td> <td> 0.010</td> <td>-1.97e+08</td> <td>-2.75e+07</td>\n",
       "</tr>\n",
       "<tr>\n",
       "  <th>zona[T.Zona Norte]</th>              <td> 2.052e+07</td> <td> 4.33e+07</td> <td>    0.474</td> <td> 0.635</td> <td>-6.42e+07</td> <td> 1.05e+08</td>\n",
       "</tr>\n",
       "<tr>\n",
       "  <th>zona[T.Zona Occidente]</th>          <td>-1.908e+08</td> <td> 4.33e+07</td> <td>   -4.409</td> <td> 0.000</td> <td>-2.76e+08</td> <td>-1.06e+08</td>\n",
       "</tr>\n",
       "<tr>\n",
       "  <th>zona[T.Zona Sur]</th>                <td>-1.268e+08</td> <td> 4.35e+07</td> <td>   -2.913</td> <td> 0.004</td> <td>-2.12e+08</td> <td>-4.15e+07</td>\n",
       "</tr>\n",
       "<tr>\n",
       "  <th>LocNombre[T.BARRIOS UNIDOS]</th>     <td> 4.988e+07</td> <td> 3.65e+07</td> <td>    1.367</td> <td> 0.171</td> <td>-2.16e+07</td> <td> 1.21e+08</td>\n",
       "</tr>\n",
       "<tr>\n",
       "  <th>LocNombre[T.BOSA]</th>               <td> 2.611e+07</td> <td> 3.56e+07</td> <td>    0.732</td> <td> 0.464</td> <td>-4.38e+07</td> <td>  9.6e+07</td>\n",
       "</tr>\n",
       "<tr>\n",
       "  <th>LocNombre[T.CANDELARIA]</th>         <td>  2.62e+08</td> <td> 5.54e+07</td> <td>    4.726</td> <td> 0.000</td> <td> 1.53e+08</td> <td> 3.71e+08</td>\n",
       "</tr>\n",
       "<tr>\n",
       "  <th>LocNombre[T.CHAPINERO]</th>          <td> 2.911e+08</td> <td> 3.41e+07</td> <td>    8.542</td> <td> 0.000</td> <td> 2.24e+08</td> <td> 3.58e+08</td>\n",
       "</tr>\n",
       "<tr>\n",
       "  <th>LocNombre[T.CIUDAD BOLIVAR]</th>     <td> 1.789e+08</td> <td> 3.47e+07</td> <td>    5.161</td> <td> 0.000</td> <td> 1.11e+08</td> <td> 2.47e+08</td>\n",
       "</tr>\n",
       "<tr>\n",
       "  <th>LocNombre[T.ENGATIVA]</th>           <td> 6.001e+07</td> <td>  3.5e+07</td> <td>    1.713</td> <td> 0.087</td> <td>-8.66e+06</td> <td> 1.29e+08</td>\n",
       "</tr>\n",
       "<tr>\n",
       "  <th>LocNombre[T.FONTIBON]</th>           <td> 1.963e+08</td> <td> 3.51e+07</td> <td>    5.597</td> <td> 0.000</td> <td> 1.28e+08</td> <td> 2.65e+08</td>\n",
       "</tr>\n",
       "<tr>\n",
       "  <th>LocNombre[T.KENNEDY]</th>            <td> 1.185e+08</td> <td> 3.42e+07</td> <td>    3.464</td> <td> 0.001</td> <td> 5.15e+07</td> <td> 1.86e+08</td>\n",
       "</tr>\n",
       "<tr>\n",
       "  <th>LocNombre[T.LOS MARTIRES]</th>       <td>-5.733e+07</td> <td> 4.46e+07</td> <td>   -1.284</td> <td> 0.199</td> <td>-1.45e+08</td> <td> 3.02e+07</td>\n",
       "</tr>\n",
       "<tr>\n",
       "  <th>LocNombre[T.PUENTE ARANDA]</th>      <td> 5.059e+07</td> <td> 3.75e+07</td> <td>    1.348</td> <td> 0.178</td> <td> -2.3e+07</td> <td> 1.24e+08</td>\n",
       "</tr>\n",
       "<tr>\n",
       "  <th>LocNombre[T.RAFAEL URIBE URIBE]</th> <td>-3.458e+06</td> <td> 3.89e+07</td> <td>   -0.089</td> <td> 0.929</td> <td>-7.97e+07</td> <td> 7.28e+07</td>\n",
       "</tr>\n",
       "<tr>\n",
       "  <th>LocNombre[T.SAN CRISTOBAL]</th>      <td>-4.372e+07</td> <td> 3.85e+07</td> <td>   -1.135</td> <td> 0.256</td> <td>-1.19e+08</td> <td> 3.18e+07</td>\n",
       "</tr>\n",
       "<tr>\n",
       "  <th>LocNombre[T.SANTA FE]</th>           <td> 9.356e+07</td> <td> 4.02e+07</td> <td>    2.326</td> <td> 0.020</td> <td> 1.47e+07</td> <td> 1.72e+08</td>\n",
       "</tr>\n",
       "<tr>\n",
       "  <th>LocNombre[T.SUBA]</th>               <td> -1.11e+08</td> <td> 3.43e+07</td> <td>   -3.242</td> <td> 0.001</td> <td>-1.78e+08</td> <td>-4.39e+07</td>\n",
       "</tr>\n",
       "<tr>\n",
       "  <th>LocNombre[T.TEUSAQUILLO]</th>        <td> 6.214e+07</td> <td>  3.6e+07</td> <td>    1.728</td> <td> 0.084</td> <td>-8.34e+06</td> <td> 1.33e+08</td>\n",
       "</tr>\n",
       "<tr>\n",
       "  <th>LocNombre[T.TUNJUELITO]</th>         <td> 2.155e+07</td> <td> 4.67e+07</td> <td>    0.461</td> <td> 0.645</td> <td>   -7e+07</td> <td> 1.13e+08</td>\n",
       "</tr>\n",
       "<tr>\n",
       "  <th>LocNombre[T.USAQUEN]</th>            <td>-2.038e+08</td> <td>  3.4e+07</td> <td>   -6.001</td> <td> 0.000</td> <td> -2.7e+08</td> <td>-1.37e+08</td>\n",
       "</tr>\n",
       "<tr>\n",
       "  <th>LocNombre[T.USME]</th>               <td> 3.561e+07</td> <td> 3.69e+07</td> <td>    0.965</td> <td> 0.335</td> <td>-3.67e+07</td> <td> 1.08e+08</td>\n",
       "</tr>\n",
       "<tr>\n",
       "  <th>numero_habitaciones</th>             <td> 8.061e+06</td> <td> 2.02e+06</td> <td>    3.986</td> <td> 0.000</td> <td>  4.1e+06</td> <td>  1.2e+07</td>\n",
       "</tr>\n",
       "<tr>\n",
       "  <th>num_garages</th>                     <td> 2.022e+08</td> <td> 2.47e+06</td> <td>   81.817</td> <td> 0.000</td> <td> 1.97e+08</td> <td> 2.07e+08</td>\n",
       "</tr>\n",
       "<tr>\n",
       "  <th>num_banos</th>                       <td> 1.734e+08</td> <td> 2.47e+06</td> <td>   70.224</td> <td> 0.000</td> <td> 1.69e+08</td> <td> 1.78e+08</td>\n",
       "</tr>\n",
       "<tr>\n",
       "  <th>piso_interior</th>                   <td> -1.86e+07</td> <td> 3.57e+06</td> <td>   -5.212</td> <td> 0.000</td> <td>-2.56e+07</td> <td>-1.16e+07</td>\n",
       "</tr>\n",
       "<tr>\n",
       "  <th>piso_ubicacion</th>                  <td> 7.974e+04</td> <td> 7.35e+04</td> <td>    1.085</td> <td> 0.278</td> <td>-6.44e+04</td> <td> 2.24e+05</td>\n",
       "</tr>\n",
       "<tr>\n",
       "  <th>precio_administracion</th>           <td>   -0.1737</td> <td>    0.109</td> <td>   -1.598</td> <td> 0.110</td> <td>   -0.387</td> <td>    0.039</td>\n",
       "</tr>\n",
       "<tr>\n",
       "  <th>estrato</th>                         <td> 1.387e+08</td> <td>  2.9e+06</td> <td>   47.833</td> <td> 0.000</td> <td> 1.33e+08</td> <td> 1.44e+08</td>\n",
       "</tr>\n",
       "</table>\n",
       "<table class=\"simpletable\">\n",
       "<tr>\n",
       "  <th>Omnibus:</th>       <td>59107.458</td> <th>  Durbin-Watson:     </th>  <td>   2.003</td>  \n",
       "</tr>\n",
       "<tr>\n",
       "  <th>Prob(Omnibus):</th>  <td> 0.000</td>   <th>  Jarque-Bera (JB):  </th> <td>2716580.196</td>\n",
       "</tr>\n",
       "<tr>\n",
       "  <th>Skew:</th>           <td> 3.731</td>   <th>  Prob(JB):          </th>  <td>    0.00</td>  \n",
       "</tr>\n",
       "<tr>\n",
       "  <th>Kurtosis:</th>       <td>32.332</td>   <th>  Cond. No.          </th>  <td>2.16e+10</td>  \n",
       "</tr>\n",
       "</table><br/><br/>Warnings:<br/>[1] Standard Errors assume that the covariance matrix of the errors is correctly specified.<br/>[2] The condition number is large, 2.16e+10. This might indicate that there are<br/>strong multicollinearity or other numerical problems."
      ],
      "text/plain": [
       "<class 'statsmodels.iolib.summary.Summary'>\n",
       "\"\"\"\n",
       "                            OLS Regression Results                            \n",
       "==============================================================================\n",
       "Dep. Variable:                 precio   R-squared:                       0.524\n",
       "Model:                            OLS   Adj. R-squared:                  0.524\n",
       "Method:                 Least Squares   F-statistic:                     1398.\n",
       "Date:                Sat, 07 Dec 2019   Prob (F-statistic):               0.00\n",
       "Time:                        18:43:11   Log-Likelihood:            -1.5398e+06\n",
       "No. Observations:               71174   AIC:                         3.080e+06\n",
       "Df Residuals:                   71117   BIC:                         3.080e+06\n",
       "Df Model:                          56                                         \n",
       "Covariance Type:            nonrobust                                         \n",
       "===================================================================================================\n",
       "                                      coef    std err          t      P>|t|      [0.025      0.975]\n",
       "---------------------------------------------------------------------------------------------------\n",
       "Intercept                       -4.575e+08   6.05e+08     -0.757      0.449   -1.64e+09    7.28e+08\n",
       "tipo_inmueble[T.Apartamento]     8.153e+07   2.15e+07      3.789      0.000    3.94e+07    1.24e+08\n",
       "tipo_inmueble[T.Casa]            2.131e+08   2.29e+07      9.320      0.000    1.68e+08    2.58e+08\n",
       "tipo_inmueble[T.Casa Campestre]  2.225e+08   8.04e+07      2.768      0.006    6.49e+07     3.8e+08\n",
       "tipo_inmueble[T.Casa Lote]       8.001e+08   4.14e+07     19.311      0.000    7.19e+08    8.81e+08\n",
       "tipo_inmueble[T.Proyecto Nuevo] -1.953e+08    6.8e+07     -2.872      0.004   -3.29e+08    -6.2e+07\n",
       "edad[T.1 a 8 años]               -2.66e+08   6.03e+08     -0.441      0.659   -1.45e+09    9.16e+08\n",
       "edad[T.16 a 30 años]            -3.397e+08   6.03e+08     -0.563      0.573   -1.52e+09    8.42e+08\n",
       "edad[T.2]                        1.664e+07   8.52e+08      0.020      0.984   -1.65e+09    1.69e+09\n",
       "edad[T.5]                       -4.061e+08   8.52e+08     -0.477      0.634   -2.08e+09    1.26e+09\n",
       "edad[T.9 a 15 años]             -2.937e+08   6.03e+08     -0.487      0.626   -1.48e+09    8.88e+08\n",
       "edad[T.Entre 0 y 5 años]        -1.332e+08   6.02e+08     -0.221      0.825   -1.31e+09    1.05e+09\n",
       "edad[T.Entre 10 y 20 años]      -2.326e+08   6.02e+08     -0.386      0.699   -1.41e+09    9.48e+08\n",
       "edad[T.Entre 5 y 10 años]       -2.169e+08   6.02e+08     -0.360      0.719    -1.4e+09    9.64e+08\n",
       "edad[T.Menos de 1 año]          -1.834e+08   6.03e+08     -0.304      0.761   -1.37e+09    9.99e+08\n",
       "edad[T.Más de 20 años]          -3.247e+08   6.02e+08     -0.539      0.590   -1.51e+09    8.56e+08\n",
       "edad[T.Más de 30 años]          -2.851e+08   6.03e+08     -0.473      0.636   -1.47e+09    8.97e+08\n",
       "edad[T.None]                    -1.797e+08   6.03e+08     -0.298      0.766   -1.36e+09       1e+09\n",
       "edad[T.Remodelado]               -1.88e+08   6.03e+08     -0.312      0.755   -1.37e+09    9.94e+08\n",
       "edad[T.ntre 0 y 5 años]         -4.329e+08   6.29e+08     -0.688      0.491   -1.67e+09       8e+08\n",
       "zona[T.Chapinero]                -1.04e+08   3.63e+07     -2.864      0.004   -1.75e+08   -3.28e+07\n",
       "zona[T.Guaymaral]                1.722e+08   7.05e+07      2.443      0.015     3.4e+07     3.1e+08\n",
       "zona[T.Noroccidente]            -1.388e+08   3.55e+07     -3.913      0.000   -2.08e+08   -6.93e+07\n",
       "zona[T.Norte]                    8.988e+07   3.43e+07      2.618      0.009    2.26e+07    1.57e+08\n",
       "zona[T.Occidental]              -1.772e+08    3.6e+07     -4.927      0.000   -2.48e+08   -1.07e+08\n",
       "zona[T.Sur]                     -5.076e+07   4.25e+07     -1.195      0.232   -1.34e+08    3.25e+07\n",
       "zona[T.Zona Centro]              4.218e+07   4.33e+07      0.974      0.330   -4.27e+07    1.27e+08\n",
       "zona[T.Zona Chapinero]          -1.911e+06   4.39e+07     -0.043      0.965    -8.8e+07    8.42e+07\n",
       "zona[T.Zona Noroccidente]       -1.125e+08   4.34e+07     -2.593      0.010   -1.97e+08   -2.75e+07\n",
       "zona[T.Zona Norte]               2.052e+07   4.33e+07      0.474      0.635   -6.42e+07    1.05e+08\n",
       "zona[T.Zona Occidente]          -1.908e+08   4.33e+07     -4.409      0.000   -2.76e+08   -1.06e+08\n",
       "zona[T.Zona Sur]                -1.268e+08   4.35e+07     -2.913      0.004   -2.12e+08   -4.15e+07\n",
       "LocNombre[T.BARRIOS UNIDOS]      4.988e+07   3.65e+07      1.367      0.171   -2.16e+07    1.21e+08\n",
       "LocNombre[T.BOSA]                2.611e+07   3.56e+07      0.732      0.464   -4.38e+07     9.6e+07\n",
       "LocNombre[T.CANDELARIA]           2.62e+08   5.54e+07      4.726      0.000    1.53e+08    3.71e+08\n",
       "LocNombre[T.CHAPINERO]           2.911e+08   3.41e+07      8.542      0.000    2.24e+08    3.58e+08\n",
       "LocNombre[T.CIUDAD BOLIVAR]      1.789e+08   3.47e+07      5.161      0.000    1.11e+08    2.47e+08\n",
       "LocNombre[T.ENGATIVA]            6.001e+07    3.5e+07      1.713      0.087   -8.66e+06    1.29e+08\n",
       "LocNombre[T.FONTIBON]            1.963e+08   3.51e+07      5.597      0.000    1.28e+08    2.65e+08\n",
       "LocNombre[T.KENNEDY]             1.185e+08   3.42e+07      3.464      0.001    5.15e+07    1.86e+08\n",
       "LocNombre[T.LOS MARTIRES]       -5.733e+07   4.46e+07     -1.284      0.199   -1.45e+08    3.02e+07\n",
       "LocNombre[T.PUENTE ARANDA]       5.059e+07   3.75e+07      1.348      0.178    -2.3e+07    1.24e+08\n",
       "LocNombre[T.RAFAEL URIBE URIBE] -3.458e+06   3.89e+07     -0.089      0.929   -7.97e+07    7.28e+07\n",
       "LocNombre[T.SAN CRISTOBAL]      -4.372e+07   3.85e+07     -1.135      0.256   -1.19e+08    3.18e+07\n",
       "LocNombre[T.SANTA FE]            9.356e+07   4.02e+07      2.326      0.020    1.47e+07    1.72e+08\n",
       "LocNombre[T.SUBA]                -1.11e+08   3.43e+07     -3.242      0.001   -1.78e+08   -4.39e+07\n",
       "LocNombre[T.TEUSAQUILLO]         6.214e+07    3.6e+07      1.728      0.084   -8.34e+06    1.33e+08\n",
       "LocNombre[T.TUNJUELITO]          2.155e+07   4.67e+07      0.461      0.645      -7e+07    1.13e+08\n",
       "LocNombre[T.USAQUEN]            -2.038e+08    3.4e+07     -6.001      0.000    -2.7e+08   -1.37e+08\n",
       "LocNombre[T.USME]                3.561e+07   3.69e+07      0.965      0.335   -3.67e+07    1.08e+08\n",
       "numero_habitaciones              8.061e+06   2.02e+06      3.986      0.000     4.1e+06     1.2e+07\n",
       "num_garages                      2.022e+08   2.47e+06     81.817      0.000    1.97e+08    2.07e+08\n",
       "num_banos                        1.734e+08   2.47e+06     70.224      0.000    1.69e+08    1.78e+08\n",
       "piso_interior                    -1.86e+07   3.57e+06     -5.212      0.000   -2.56e+07   -1.16e+07\n",
       "piso_ubicacion                   7.974e+04   7.35e+04      1.085      0.278   -6.44e+04    2.24e+05\n",
       "precio_administracion              -0.1737      0.109     -1.598      0.110      -0.387       0.039\n",
       "estrato                          1.387e+08    2.9e+06     47.833      0.000    1.33e+08    1.44e+08\n",
       "==============================================================================\n",
       "Omnibus:                    59107.458   Durbin-Watson:                   2.003\n",
       "Prob(Omnibus):                  0.000   Jarque-Bera (JB):          2716580.196\n",
       "Skew:                           3.731   Prob(JB):                         0.00\n",
       "Kurtosis:                      32.332   Cond. No.                     2.16e+10\n",
       "==============================================================================\n",
       "\n",
       "Warnings:\n",
       "[1] Standard Errors assume that the covariance matrix of the errors is correctly specified.\n",
       "[2] The condition number is large, 2.16e+10. This might indicate that there are\n",
       "strong multicollinearity or other numerical problems.\n",
       "\"\"\""
      ]
     },
     "execution_count": 256,
     "metadata": {},
     "output_type": "execute_result"
    }
   ],
   "source": [
    "model_log = smf.ols(formula = \"precio ~ tipo_inmueble+numero_habitaciones+edad+num_garages\"\n",
    "                    \"+num_banos+piso_interior+piso_ubicacion+precio_administracion+zona+estrato+LocNombre\",\n",
    "                 data = train).fit()\n",
    "model_log.summary()"
   ]
  },
  {
   "cell_type": "code",
   "execution_count": 257,
   "metadata": {},
   "outputs": [
    {
     "data": {
      "text/plain": [
       "341837895.16"
      ]
     },
     "execution_count": 257,
     "metadata": {},
     "output_type": "execute_result"
    }
   ],
   "source": [
    "np.round(\n",
    "    np.mean(                                                      # Mean\n",
    "        np.abs(                                                   # Absolute\n",
    "            model_log.predict(test) - test.precio    # Error\n",
    "        )\n",
    "    ),\n",
    "2)"
   ]
  },
  {
   "cell_type": "code",
   "execution_count": 258,
   "metadata": {},
   "outputs": [
    {
     "data": {
      "text/plain": [
       "594726018.811"
      ]
     },
     "execution_count": 258,
     "metadata": {},
     "output_type": "execute_result"
    }
   ],
   "source": [
    "np.round(\n",
    "    np.sqrt(                                                          # Root\n",
    "        np.mean(                                                      # Mean\n",
    "            np.square(                                                # Squared\n",
    "                model_log.predict(test) - test.precio     # Error\n",
    "            )\n",
    "        )\n",
    "    ),\n",
    "    decimals=3 # round to 3 decimals\n",
    ")"
   ]
  },
  {
   "cell_type": "code",
   "execution_count": 259,
   "metadata": {},
   "outputs": [
    {
     "data": {
      "text/plain": [
       "3079735.270475641"
      ]
     },
     "execution_count": 259,
     "metadata": {},
     "output_type": "execute_result"
    }
   ],
   "source": [
    "model_log.aic"
   ]
  }
 ],
 "metadata": {
  "kernelspec": {
   "display_name": "Python 3",
   "language": "python",
   "name": "python3"
  },
  "language_info": {
   "codemirror_mode": {
    "name": "ipython",
    "version": 3
   },
   "file_extension": ".py",
   "mimetype": "text/x-python",
   "name": "python",
   "nbconvert_exporter": "python",
   "pygments_lexer": "ipython3",
   "version": "3.7.3"
  }
 },
 "nbformat": 4,
 "nbformat_minor": 2
}
