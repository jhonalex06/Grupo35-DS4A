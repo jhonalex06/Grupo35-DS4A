{
 "cells": [
  {
   "cell_type": "code",
   "execution_count": 1,
   "metadata": {},
   "outputs": [],
   "source": [
    "import numpy as np\n",
    "import seaborn as sns\n",
    "import pandas as pd\n",
    "import matplotlib.pyplot as plt\n",
    "from scipy import stats\n",
    "%matplotlib inline"
   ]
  },
  {
   "cell_type": "code",
   "execution_count": 16,
   "metadata": {},
   "outputs": [
    {
     "name": "stdout",
     "output_type": "stream",
     "text": [
      "98521\n"
     ]
    }
   ],
   "source": [
    "df_origen = pd.read_csv('2.csv/2_final_web_scrapping/2_final_web_scrapping.csv',low_memory=False)\n",
    "n_rows,n_columns =df_origen.shape\n",
    "print(n_rows)"
   ]
  },
  {
   "cell_type": "markdown",
   "metadata": {},
   "source": [
    "***Eliminar duplicados***"
   ]
  },
  {
   "cell_type": "code",
   "execution_count": 24,
   "metadata": {},
   "outputs": [],
   "source": [
    "train = df_origen.drop_duplicates().reset_index(drop=True)\n",
    "n_rows,n_columns =train.shape"
   ]
  },
  {
   "cell_type": "markdown",
   "metadata": {},
   "source": [
    "***Eliminar columnas totalmente nulas o no necesarias***"
   ]
  },
  {
   "cell_type": "code",
   "execution_count": 25,
   "metadata": {},
   "outputs": [],
   "source": [
    "data_count_null = train.isnull().sum().reset_index(name='q_nan')\n",
    "\n",
    "# Variable identificadas como no utiles\n",
    "columns_to_drop = ['ClientId','ClientName','TransactionId',\n",
    "                   'TransactionType','Category1Id','Category2Id',\n",
    "                  'Category3Id','Location1','Location2','OutStanding',\n",
    "                  'TopAdvert','Status','Surface','LivingArea',\n",
    "                  'Capacity','ModifyDate','ProductLabel']\n",
    "\n",
    "#identifica los campos que tengan el 90% de sus \n",
    "for columns in data_count_null[data_count_null['q_nan']==(n_rows)]['index']:\n",
    "    columns_to_drop.append(columns)\n",
    "\n",
    "train = train.drop(columns_to_drop,axis='columns')"
   ]
  },
  {
   "cell_type": "markdown",
   "metadata": {},
   "source": [
    "***Manejo de los datos extras o complementos (Variables de si o no tiene)***"
   ]
  },
  {
   "cell_type": "code",
   "execution_count": 37,
   "metadata": {},
   "outputs": [],
   "source": [
    "extras_sector = []\n",
    "extras_exteriores = []\n",
    "extras_interiores = []\n",
    "extras_apartamento = []\n",
    "extras = []\n",
    "for a in train['Extras']:\n",
    "    if a==a:\n",
    "        for b in a.split('|'):\n",
    "            extras.append(b.split('$')[0])\n",
    "            if(b.split('$')[0]=='del Sector'):\n",
    "                for c in b.split('$')[1].split(','):\n",
    "                    extras_sector.append(c.strip())\n",
    "            if(b.split('$')[0]=='Interiores'):\n",
    "                for c in b.split('$')[1].split(','):\n",
    "                    extras_interiores.append(c.strip())\n",
    "            if(b.split('$')[0]=='Exteriores'):\n",
    "                for c in b.split('$')[1].split(','):\n",
    "                    extras_sector.append(c.strip())\n",
    "            if(b.split('$')[0]=='#Apartamento#'):\n",
    "                for c in b.split('$')[1].split(','):\n",
    "                    extras_apartamento.append(c.strip())\n",
    "extras_sector.sort()\n",
    "extras_sector = list(set(extras_sector))\n",
    "extras_exteriores.sort()\n",
    "extras_exteriores = list(set(extras_exteriores))\n",
    "extras_interiores.sort()\n",
    "extras_interiores = list(set(extras_interiores))\n",
    "extras.sort()\n",
    "extras = list(set(extras))\n",
    "extras_apartamento.sort()\n",
    "extras_apartamento = list(set(extras_apartamento))"
   ]
  },
  {
   "cell_type": "markdown",
   "metadata": {},
   "source": [
    "***Homologación de campos***"
   ]
  },
  {
   "cell_type": "code",
   "execution_count": 49,
   "metadata": {},
   "outputs": [],
   "source": [
    "homologacion_columns = {'Category1':'tipo_inueble',\n",
    "                        'Location3':'zona',\n",
    "                        'Location4':'barrio1', \n",
    "                        'Neighborhood':'sector_catastral', \n",
    "                        'Description':'descripcion', \n",
    "                        'Price':'precio',\n",
    "                        'ContractType':'tipo_contrato',\n",
    "                        'Area':'area', \n",
    "                        'Address':'direccion', \n",
    "                        'Rooms':'numero_habitaciones', \n",
    "                        'Baths':'num_banos',\n",
    "                        'Ages':'edad',\n",
    "                        'Condition':'condicion', \n",
    "                        'Floor': 'piso_ubicacion', \n",
    "                        'AdministrationPrice':'precio_administracion',\n",
    "                        'Stratum':'estrato',\n",
    "                        'Garages':'num_garages',\n",
    "                        'Extras':'extras', \n",
    "                        'Latitude':'latitude',\n",
    "                        'Longitude':'longitude',\n",
    "                        'InteriorFloors':'piso_interior',\n",
    "                        'url_link':'id_inmueble'}\n",
    "\n",
    "train = train.rename(columns = homologacion_columns)"
   ]
  }
 ],
 "metadata": {
  "kernelspec": {
   "display_name": "Python 3",
   "language": "python",
   "name": "python3"
  },
  "language_info": {
   "codemirror_mode": {
    "name": "ipython",
    "version": 3
   },
   "file_extension": ".py",
   "mimetype": "text/x-python",
   "name": "python",
   "nbconvert_exporter": "python",
   "pygments_lexer": "ipython3",
   "version": "3.7.3"
  }
 },
 "nbformat": 4,
 "nbformat_minor": 2
}
