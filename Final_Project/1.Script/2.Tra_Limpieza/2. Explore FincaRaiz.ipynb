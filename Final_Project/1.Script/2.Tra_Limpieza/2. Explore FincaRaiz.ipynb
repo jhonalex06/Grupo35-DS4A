{
 "cells": [
  {
   "cell_type": "code",
   "execution_count": 42,
   "metadata": {},
   "outputs": [],
   "source": [
    "import pandas as pd\n",
    "import numpy\n",
    "from datetime import datetime"
   ]
  },
  {
   "cell_type": "code",
   "execution_count": 43,
   "metadata": {},
   "outputs": [
    {
     "name": "stdout",
     "output_type": "stream",
     "text": [
      "Proceso de estandarizacion inmuebles de finca raiz\n",
      "- Cargando data set .....\n",
      "- Cantidad de registros data set original:  98521\n"
     ]
    }
   ],
   "source": [
    "print(\"Proceso de estandarizacion inmuebles de finca raiz\")\n",
    "print(\"- Cargando data set .....\")\n",
    "df_origen = pd.read_csv('../../2.Export/1.Ext/variables_inmuebles_finca_raiz.zip',low_memory=False,\n",
    "                       dtype={'Latitude': str})\n",
    "n_rows_ori,n_columns_ori =df_origen.shape\n",
    "print(\"- Cantidad de registros data set original: \",n_rows_ori)"
   ]
  },
  {
   "cell_type": "markdown",
   "metadata": {},
   "source": [
    "***Eliminar duplicados***"
   ]
  },
  {
   "cell_type": "code",
   "execution_count": 44,
   "metadata": {},
   "outputs": [
    {
     "name": "stdout",
     "output_type": "stream",
     "text": [
      "- Eliminar duplicados\n",
      "- Cantidad de registros ahora:  56507  # duplicados:  42014\n"
     ]
    }
   ],
   "source": [
    "print(\"- Eliminar duplicados\")\n",
    "train_1 = df_origen.drop_duplicates().reset_index(drop=True)\n",
    "train_2 = train_1[['url_link','ModifyDate']].groupby('url_link').max().reset_index()\n",
    "train_3 = pd.merge(train_2,train_1,how='left',left_on = ['url_link','ModifyDate'],right_on=['url_link','ModifyDate'])\n",
    "train_1,train_2 = pd.DataFrame(),pd.DataFrame()\n",
    "\n",
    "train_4 = train_3[['Latitude','Longitude','Price','Description','ClientId','Neighborhood','url_link']].groupby(['Latitude','Longitude','Price','Description','ClientId','Neighborhood']).max().reset_index()\n",
    "train_5 = train_3.drop(['url_link'],axis='columns').drop_duplicates().reset_index(drop=True)\n",
    "train   = pd.merge(train_5,train_4,how='left')\n",
    "train_4,train_5 = pd.DataFrame(),pd.DataFrame()\n",
    "\n",
    "n_rows,n_columns =train.shape\n",
    "n_row_drop = n_rows_ori - n_rows\n",
    "print(\"- Cantidad de registros ahora: \",n_rows,\" # duplicados: \",n_row_drop)"
   ]
  },
  {
   "cell_type": "markdown",
   "metadata": {},
   "source": [
    "***Eliminar columnas totalmente nulas o no necesarias***"
   ]
  },
  {
   "cell_type": "code",
   "execution_count": 45,
   "metadata": {},
   "outputs": [],
   "source": [
    "data_count_null = train.isnull().sum().reset_index(name='q_nan')\n",
    "\n",
    "# Variable identificadas como no utiles\n",
    "columns_to_drop = ['ClientId','ClientName','TransactionId',\n",
    "                   'TransactionType','Category1Id','Category2Id',\n",
    "                  'Category3Id','Location1','Location2','OutStanding',\n",
    "                  'TopAdvert','Status','Surface','LivingArea',\n",
    "                  'Capacity','ModifyDate','ProductLabel']\n",
    "\n",
    "#identifica los campos que tengan el 90% de sus \n",
    "for columns in data_count_null[data_count_null['q_nan']==(n_rows)]['index']:\n",
    "    columns_to_drop.append(columns)\n",
    "\n",
    "train = train.drop(columns_to_drop,axis='columns')"
   ]
  },
  {
   "cell_type": "markdown",
   "metadata": {},
   "source": [
    "***Manejo de los datos extras o complementos (Variables de si o no tiene)***"
   ]
  },
  {
   "cell_type": "code",
   "execution_count": 46,
   "metadata": {},
   "outputs": [],
   "source": [
    "extras_sector = []\n",
    "extras_exteriores = []\n",
    "extras_interiores = []\n",
    "extras_apartamento = []\n",
    "extras = []\n",
    "for a in train['Extras']:\n",
    "    if a==a:\n",
    "        for b in a.split('|'):\n",
    "            extras.append(b.split('$')[0])\n",
    "            if(b.split('$')[0]=='del Sector'):\n",
    "                for c in b.split('$')[1].split(','):\n",
    "                    extras_sector.append(c.strip())\n",
    "            if(b.split('$')[0]=='Interiores'):\n",
    "                for c in b.split('$')[1].split(','):\n",
    "                    extras_interiores.append(c.strip())\n",
    "            if(b.split('$')[0]=='Exteriores'):\n",
    "                for c in b.split('$')[1].split(','):\n",
    "                    extras_sector.append(c.strip())\n",
    "            if(b.split('$')[0]=='#Apartamento#'):\n",
    "                for c in b.split('$')[1].split(','):\n",
    "                    extras_apartamento.append(c.strip())\n",
    "extras_sector.sort()\n",
    "extras_sector = list(set(extras_sector))\n",
    "extras_exteriores.sort()\n",
    "extras_exteriores = list(set(extras_exteriores))\n",
    "extras_interiores.sort()\n",
    "extras_interiores = list(set(extras_interiores))\n",
    "extras.sort()\n",
    "extras = list(set(extras))\n",
    "extras_apartamento.sort()\n",
    "extras_apartamento = list(set(extras_apartamento))"
   ]
  },
  {
   "cell_type": "markdown",
   "metadata": {},
   "source": [
    "***Homologación de campos***"
   ]
  },
  {
   "cell_type": "code",
   "execution_count": 47,
   "metadata": {},
   "outputs": [],
   "source": [
    "homologacion_columns = {'Category1':'tipo_inueble',\n",
    "                        'Location3':'zona',\n",
    "                        'Location4':'barrio1', \n",
    "                        'Neighborhood':'sector_catastral', \n",
    "                        'Description':'descripcion', \n",
    "                        'Price':'precio',\n",
    "#                         'ContractType':'tipo_contrato',\n",
    "                        'Area':'area', \n",
    "#                         'Address':'direccion', \n",
    "                        'Rooms':'numero_habitaciones', \n",
    "                        'Baths':'num_banos',\n",
    "                        'Ages':'edad',\n",
    "#                         'Condition':'condicion', \n",
    "                        'Floor': 'piso_ubicacion', \n",
    "                        'AdministrationPrice':'precio_administracion',\n",
    "                        'Stratum':'estrato',\n",
    "                        'Garages':'num_garages',\n",
    "                        'Extras':'extras', \n",
    "                        'Latitude':'latitude',\n",
    "                        'Longitude':'longitude',\n",
    "                        'InteriorFloors':'piso_interior',\n",
    "                        'url_link':'id_inmueble'}\n",
    "\n",
    "# Variable identificadas como no utiles\n",
    "columns_to_drop = []\n",
    "\n",
    "for column in train.columns:\n",
    "    if column not in homologacion_columns.keys():\n",
    "        columns_to_drop.append(column)\n",
    "columns_to_drop\n",
    "train = train.drop(columns_to_drop,axis='columns')\n",
    "train = train.rename(columns = homologacion_columns)"
   ]
  },
  {
   "cell_type": "code",
   "execution_count": 48,
   "metadata": {},
   "outputs": [
    {
     "name": "stdout",
     "output_type": "stream",
     "text": [
      "Guardando resultado ....\n",
      "Fin limpieza finca raiz\n"
     ]
    }
   ],
   "source": [
    "print(\"Guardando resultado ....\")\n",
    "train.to_csv('../../2.Export/2.Final/limpieza_finca_raiz.csv')\n",
    "print(\"Fin limpieza finca raiz\")"
   ]
  }
 ],
 "metadata": {
  "kernelspec": {
   "display_name": "Python 3",
   "language": "python",
   "name": "python3"
  },
  "language_info": {
   "codemirror_mode": {
    "name": "ipython",
    "version": 3
   },
   "file_extension": ".py",
   "mimetype": "text/x-python",
   "name": "python",
   "nbconvert_exporter": "python",
   "pygments_lexer": "ipython3",
   "version": "3.7.3"
  }
 },
 "nbformat": 4,
 "nbformat_minor": 2
}
