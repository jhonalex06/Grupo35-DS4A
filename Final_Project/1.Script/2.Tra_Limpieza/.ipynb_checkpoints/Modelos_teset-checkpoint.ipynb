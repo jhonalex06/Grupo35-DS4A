{
 "cells": [
  {
   "cell_type": "code",
   "execution_count": 1,
   "metadata": {},
   "outputs": [],
   "source": [
    "import pandas as pd\n",
    "import numpy as np\n",
    "from sklearn import linear_model\n",
    "from sklearn.preprocessing import LabelEncoder\n",
    "from sklearn.model_selection import train_test_split\n",
    "from sklearn.ensemble import RandomForestRegressor\n",
    "import statsmodels.formula.api as smf"
   ]
  },
  {
   "cell_type": "code",
   "execution_count": 2,
   "metadata": {},
   "outputs": [
    {
     "name": "stdout",
     "output_type": "stream",
     "text": [
      "Index(['area', 'edad', 'estrato', 'extras', 'latitude', 'longitude',\n",
      "       'num_banos', 'num_garages', 'numero_habitaciones', 'piso_interior',\n",
      "       ...\n",
      "       'is_SITP', 'is_ParquesUrbanos', 'is_UnidadServicioSalud', 'is_Teatros',\n",
      "       'is_Restaurantes', 'is_Iglesias', 'is_CAIS', 'is_GastronomiaBar',\n",
      "       'log_precio', 'zona'],\n",
      "      dtype='object', length=105)\n"
     ]
    }
   ],
   "source": [
    "data_to_train_full = pd.read_csv(\"../../2.Export/2.Final/data_to_train.csv\")\n",
    "data_to_train_full = data_to_train_full.drop(['Unnamed: 0','precio','id_inmueble','SCaCodigo','LocCodigo','descripcion'],axis='columns')\n",
    "#data_to_train_full = data_to_train_full.drop(['log_area','num_banos','area','num_garages'],axis='columns')\n",
    "print(data_to_train_full.columns)"
   ]
  },
  {
   "cell_type": "code",
   "execution_count": 3,
   "metadata": {},
   "outputs": [],
   "source": [
    "data_to_train = data_to_train_full.copy()\n",
    "# cols_drop = ['CountHospedaje', 'CountBibliotecas',\n",
    "#        'CountCanchasSinteticas', 'CountCicloParqueadero', 'CountColegios',\n",
    "#        'CountConsultorios', 'CountEPS', 'CountFarmacia', 'CountGastronomiaBar',\n",
    "#        'CountBomberos', 'CountIPS', 'CountIPSAtencionInfantil',\n",
    "#        'CountVacunacionInfantil', 'CountMuseos', 'CountSITP',\n",
    "#        'CountParquesUrbanos', 'CountUnidadServicioSalud', 'CountTeatros',\n",
    "#              'CountRestaurantes', 'CountDelitosSexuales', 'CountHurtos',\n",
    "#        'CountIglesias', 'CountCAIS',\n",
    "#              'SCaTipo','LocNombre','extras','precio_administracion','area','latitude', 'longitude',\n",
    "#             'sector_catastral','zona','tipo_inmueble','numero_habitaciones',\n",
    "#             'edad', 'num_garages','num_banos','piso_interior', 'piso_ubicacion' ]\n",
    "# # cols_drop = ['num_garages']\n",
    "# data_to_train = data_to_train.drop(cols_drop,axis='columns')\n",
    "\n",
    "#data_to_train.columns"
   ]
  },
  {
   "cell_type": "code",
   "execution_count": 8,
   "metadata": {},
   "outputs": [],
   "source": [
    "# cols = ['edad','extras','tipo_inmueble','sector_catastral','SCaTipo','LocNombre','zona']\n",
    "# for c in cols:\n",
    "#     lbl = LabelEncoder() \n",
    "#     lbl.fit(list(data_to_train[c].values)) \n",
    "#     data_to_train[c] = lbl.transform(list(data_to_train[c].values))"
   ]
  },
  {
   "cell_type": "code",
   "execution_count": 10,
   "metadata": {},
   "outputs": [
    {
     "data": {
      "text/plain": [
       "LinearRegression(copy_X=True, fit_intercept=True, n_jobs=None, normalize=False)"
      ]
     },
     "execution_count": 10,
     "metadata": {},
     "output_type": "execute_result"
    }
   ],
   "source": [
    "# model1 = linear_model.LinearRegression()\n",
    "# y = data_to_train['log_precio']\n",
    "# del data_to_train['log_precio']\n",
    "# X = data_to_train.values\n",
    "# y = y.values\n",
    "# X_train, X_test, y_train, y_test = train_test_split(X, y, test_size=0.2, random_state=7)\n",
    "# model1.fit(X_train, y_train)\n"
   ]
  },
  {
   "cell_type": "code",
   "execution_count": 11,
   "metadata": {},
   "outputs": [
    {
     "name": "stdout",
     "output_type": "stream",
     "text": [
      "Predict value [20.50915139]\n",
      "Real value 20.560746908625106\n",
      "Accuracy -->  87.49723099609807\n"
     ]
    }
   ],
   "source": [
    "# print(\"Predict value \" + str((model1.predict([X_test[142]]))))\n",
    "# print(\"Real value \" + str((y_test[142])))\n",
    "# print(\"Accuracy --> \", model1.score(X_test, y_test)*100)"
   ]
  },
  {
   "cell_type": "code",
   "execution_count": 12,
   "metadata": {},
   "outputs": [
    {
     "name": "stdout",
     "output_type": "stream",
     "text": [
      "Accuracy -->  95.03274763253776\n"
     ]
    }
   ],
   "source": [
    "# model2 = RandomForestRegressor(n_estimators=50)\n",
    "# model2.fit(X_train, y_train)\n",
    "# print(\"Accuracy --> \", model2.score(X_test, y_test)*100)\n"
   ]
  },
  {
   "cell_type": "code",
   "execution_count": 15,
   "metadata": {},
   "outputs": [
    {
     "name": "stdout",
     "output_type": "stream",
     "text": [
      "Predict value [4.91139573e+08]\n",
      "Real value 545000000.9999986\n"
     ]
    }
   ],
   "source": [
    "#for i in range(50):\n",
    "# print(\"Predict value \" + str(np.exp(model2.predict([X_test[4]]))))\n",
    "# print(\"Real value \" + str(np.exp((y_test[4]))))"
   ]
  },
  {
   "cell_type": "code",
   "execution_count": 4,
   "metadata": {},
   "outputs": [
    {
     "name": "stdout",
     "output_type": "stream",
     "text": [
      "(53524, 105)\n",
      "(13381, 105)\n"
     ]
    }
   ],
   "source": [
    "np.random.seed(2019) # a seed makes the analysis reproducible\n",
    "                     # so everyone will get the same results\n",
    "ndata = len(data_to_train)\n",
    "# Randomly choose 0.8n indices between 1 and n\n",
    "idx_train = np.random.choice(range(ndata),int(0.8*ndata),replace=False)\n",
    "# The test set is comprised from all the indices that were\n",
    "# not selected in the training set:\n",
    "idx_test  = np.asarray(list(set(range(ndata)) - set(idx_train)))\n",
    "train     = data_to_train.iloc[idx_train] # the training data set\n",
    "test      = data_to_train.iloc[idx_test]  # the test data set\n",
    "print(train.shape) # 19,312 rows and 19 columns\n",
    "print(test.shape)  #  4,829 rows and 19 columns"
   ]
  },
  {
   "cell_type": "code",
   "execution_count": 9,
   "metadata": {},
   "outputs": [],
   "source": [
    "model_log.save(\"longley_results.pickle\")"
   ]
  },
  {
   "cell_type": "code",
   "execution_count": 8,
   "metadata": {
    "scrolled": false
   },
   "outputs": [
    {
     "data": {
      "text/html": [
       "<table class=\"simpletable\">\n",
       "<caption>OLS Regression Results</caption>\n",
       "<tr>\n",
       "  <th>Dep. Variable:</th>       <td>log_precio</td>    <th>  R-squared:         </th> <td>   0.915</td> \n",
       "</tr>\n",
       "<tr>\n",
       "  <th>Model:</th>                   <td>OLS</td>       <th>  Adj. R-squared:    </th> <td>   0.915</td> \n",
       "</tr>\n",
       "<tr>\n",
       "  <th>Method:</th>             <td>Least Squares</td>  <th>  F-statistic:       </th> <td>2.877e+04</td>\n",
       "</tr>\n",
       "<tr>\n",
       "  <th>Date:</th>             <td>Mon, 09 Dec 2019</td> <th>  Prob (F-statistic):</th>  <td>  0.00</td>  \n",
       "</tr>\n",
       "<tr>\n",
       "  <th>Time:</th>                 <td>15:56:47</td>     <th>  Log-Likelihood:    </th> <td> -727.00</td> \n",
       "</tr>\n",
       "<tr>\n",
       "  <th>No. Observations:</th>      <td> 53522</td>      <th>  AIC:               </th> <td>   1496.</td> \n",
       "</tr>\n",
       "<tr>\n",
       "  <th>Df Residuals:</th>          <td> 53501</td>      <th>  BIC:               </th> <td>   1683.</td> \n",
       "</tr>\n",
       "<tr>\n",
       "  <th>Df Model:</th>              <td>    20</td>      <th>                     </th>     <td> </td>    \n",
       "</tr>\n",
       "<tr>\n",
       "  <th>Covariance Type:</th>      <td>nonrobust</td>    <th>                     </th>     <td> </td>    \n",
       "</tr>\n",
       "</table>\n",
       "<table class=\"simpletable\">\n",
       "<tr>\n",
       "                 <td></td>                   <th>coef</th>     <th>std err</th>      <th>t</th>      <th>P>|t|</th>  <th>[0.025</th>    <th>0.975]</th>  \n",
       "</tr>\n",
       "<tr>\n",
       "  <th>Intercept</th>                      <td>   15.7735</td> <td>    0.023</td> <td>  683.120</td> <td> 0.000</td> <td>   15.728</td> <td>   15.819</td>\n",
       "</tr>\n",
       "<tr>\n",
       "  <th>zona[T.Chapinero]</th>              <td>   -0.0050</td> <td>    0.013</td> <td>   -0.378</td> <td> 0.706</td> <td>   -0.031</td> <td>    0.021</td>\n",
       "</tr>\n",
       "<tr>\n",
       "  <th>zona[T.Guaymaral]</th>              <td>   -0.1870</td> <td>    0.027</td> <td>   -6.875</td> <td> 0.000</td> <td>   -0.240</td> <td>   -0.134</td>\n",
       "</tr>\n",
       "<tr>\n",
       "  <th>zona[T.Noroccidente]</th>           <td>   -0.1421</td> <td>    0.013</td> <td>  -10.905</td> <td> 0.000</td> <td>   -0.168</td> <td>   -0.117</td>\n",
       "</tr>\n",
       "<tr>\n",
       "  <th>zona[T.Norte]</th>                  <td>   -0.0220</td> <td>    0.013</td> <td>   -1.745</td> <td> 0.081</td> <td>   -0.047</td> <td>    0.003</td>\n",
       "</tr>\n",
       "<tr>\n",
       "  <th>zona[T.Occidental]</th>             <td>   -0.1714</td> <td>    0.013</td> <td>  -13.415</td> <td> 0.000</td> <td>   -0.196</td> <td>   -0.146</td>\n",
       "</tr>\n",
       "<tr>\n",
       "  <th>zona[T.Sur]</th>                    <td>   -0.4235</td> <td>    0.015</td> <td>  -27.807</td> <td> 0.000</td> <td>   -0.453</td> <td>   -0.394</td>\n",
       "</tr>\n",
       "<tr>\n",
       "  <th>zona[T.Zona Centro]</th>            <td>    0.0294</td> <td>    0.016</td> <td>    1.823</td> <td> 0.068</td> <td>   -0.002</td> <td>    0.061</td>\n",
       "</tr>\n",
       "<tr>\n",
       "  <th>zona[T.Zona Chapinero]</th>         <td>   -0.0486</td> <td>    0.013</td> <td>   -3.696</td> <td> 0.000</td> <td>   -0.074</td> <td>   -0.023</td>\n",
       "</tr>\n",
       "<tr>\n",
       "  <th>zona[T.Zona Noroccidente]</th>      <td>   -0.1942</td> <td>    0.013</td> <td>  -15.293</td> <td> 0.000</td> <td>   -0.219</td> <td>   -0.169</td>\n",
       "</tr>\n",
       "<tr>\n",
       "  <th>zona[T.Zona Norte]</th>             <td>   -0.0794</td> <td>    0.013</td> <td>   -6.318</td> <td> 0.000</td> <td>   -0.104</td> <td>   -0.055</td>\n",
       "</tr>\n",
       "<tr>\n",
       "  <th>zona[T.Zona Occidente]</th>         <td>   -0.1985</td> <td>    0.012</td> <td>  -16.016</td> <td> 0.000</td> <td>   -0.223</td> <td>   -0.174</td>\n",
       "</tr>\n",
       "<tr>\n",
       "  <th>zona[T.Zona Sur]</th>               <td>   -0.4046</td> <td>    0.013</td> <td>  -30.209</td> <td> 0.000</td> <td>   -0.431</td> <td>   -0.378</td>\n",
       "</tr>\n",
       "<tr>\n",
       "  <th>estrato</th>                        <td>    0.1685</td> <td>    0.001</td> <td>  121.024</td> <td> 0.000</td> <td>    0.166</td> <td>    0.171</td>\n",
       "</tr>\n",
       "<tr>\n",
       "  <th>log_area</th>                       <td>    0.7260</td> <td>    0.006</td> <td>  127.866</td> <td> 0.000</td> <td>    0.715</td> <td>    0.737</td>\n",
       "</tr>\n",
       "<tr>\n",
       "  <th>num_banos</th>                      <td>    0.0430</td> <td>    0.002</td> <td>   28.623</td> <td> 0.000</td> <td>    0.040</td> <td>    0.046</td>\n",
       "</tr>\n",
       "<tr>\n",
       "  <th>area</th>                           <td>    0.0002</td> <td> 3.04e-05</td> <td>    8.053</td> <td> 0.000</td> <td>    0.000</td> <td>    0.000</td>\n",
       "</tr>\n",
       "<tr>\n",
       "  <th>num_garages</th>                    <td>    0.0888</td> <td>    0.001</td> <td>   62.186</td> <td> 0.000</td> <td>    0.086</td> <td>    0.092</td>\n",
       "</tr>\n",
       "<tr>\n",
       "  <th>Count_loc_AlojamientoHospedaje</th> <td> 1.144e-05</td> <td> 5.46e-07</td> <td>   20.977</td> <td> 0.000</td> <td> 1.04e-05</td> <td> 1.25e-05</td>\n",
       "</tr>\n",
       "<tr>\n",
       "  <th>Count_loc_CicloParqueadero</th>     <td>-4.098e-05</td> <td> 1.54e-06</td> <td>  -26.567</td> <td> 0.000</td> <td> -4.4e-05</td> <td> -3.8e-05</td>\n",
       "</tr>\n",
       "<tr>\n",
       "  <th>Count_loc_Museos</th>               <td> 6.084e-05</td> <td> 8.32e-07</td> <td>   73.165</td> <td> 0.000</td> <td> 5.92e-05</td> <td> 6.25e-05</td>\n",
       "</tr>\n",
       "</table>\n",
       "<table class=\"simpletable\">\n",
       "<tr>\n",
       "  <th>Omnibus:</th>       <td>7884.726</td> <th>  Durbin-Watson:     </th> <td>   1.988</td> \n",
       "</tr>\n",
       "<tr>\n",
       "  <th>Prob(Omnibus):</th>  <td> 0.000</td>  <th>  Jarque-Bera (JB):  </th> <td>82509.149</td>\n",
       "</tr>\n",
       "<tr>\n",
       "  <th>Skew:</th>           <td> 0.369</td>  <th>  Prob(JB):          </th> <td>    0.00</td> \n",
       "</tr>\n",
       "<tr>\n",
       "  <th>Kurtosis:</th>       <td> 9.038</td>  <th>  Cond. No.          </th> <td>2.50e+06</td> \n",
       "</tr>\n",
       "</table><br/><br/>Warnings:<br/>[1] Standard Errors assume that the covariance matrix of the errors is correctly specified.<br/>[2] The condition number is large, 2.5e+06. This might indicate that there are<br/>strong multicollinearity or other numerical problems."
      ],
      "text/plain": [
       "<class 'statsmodels.iolib.summary.Summary'>\n",
       "\"\"\"\n",
       "                            OLS Regression Results                            \n",
       "==============================================================================\n",
       "Dep. Variable:             log_precio   R-squared:                       0.915\n",
       "Model:                            OLS   Adj. R-squared:                  0.915\n",
       "Method:                 Least Squares   F-statistic:                 2.877e+04\n",
       "Date:                Mon, 09 Dec 2019   Prob (F-statistic):               0.00\n",
       "Time:                        15:56:47   Log-Likelihood:                -727.00\n",
       "No. Observations:               53522   AIC:                             1496.\n",
       "Df Residuals:                   53501   BIC:                             1683.\n",
       "Df Model:                          20                                         \n",
       "Covariance Type:            nonrobust                                         \n",
       "==================================================================================================\n",
       "                                     coef    std err          t      P>|t|      [0.025      0.975]\n",
       "--------------------------------------------------------------------------------------------------\n",
       "Intercept                         15.7735      0.023    683.120      0.000      15.728      15.819\n",
       "zona[T.Chapinero]                 -0.0050      0.013     -0.378      0.706      -0.031       0.021\n",
       "zona[T.Guaymaral]                 -0.1870      0.027     -6.875      0.000      -0.240      -0.134\n",
       "zona[T.Noroccidente]              -0.1421      0.013    -10.905      0.000      -0.168      -0.117\n",
       "zona[T.Norte]                     -0.0220      0.013     -1.745      0.081      -0.047       0.003\n",
       "zona[T.Occidental]                -0.1714      0.013    -13.415      0.000      -0.196      -0.146\n",
       "zona[T.Sur]                       -0.4235      0.015    -27.807      0.000      -0.453      -0.394\n",
       "zona[T.Zona Centro]                0.0294      0.016      1.823      0.068      -0.002       0.061\n",
       "zona[T.Zona Chapinero]            -0.0486      0.013     -3.696      0.000      -0.074      -0.023\n",
       "zona[T.Zona Noroccidente]         -0.1942      0.013    -15.293      0.000      -0.219      -0.169\n",
       "zona[T.Zona Norte]                -0.0794      0.013     -6.318      0.000      -0.104      -0.055\n",
       "zona[T.Zona Occidente]            -0.1985      0.012    -16.016      0.000      -0.223      -0.174\n",
       "zona[T.Zona Sur]                  -0.4046      0.013    -30.209      0.000      -0.431      -0.378\n",
       "estrato                            0.1685      0.001    121.024      0.000       0.166       0.171\n",
       "log_area                           0.7260      0.006    127.866      0.000       0.715       0.737\n",
       "num_banos                          0.0430      0.002     28.623      0.000       0.040       0.046\n",
       "area                               0.0002   3.04e-05      8.053      0.000       0.000       0.000\n",
       "num_garages                        0.0888      0.001     62.186      0.000       0.086       0.092\n",
       "Count_loc_AlojamientoHospedaje  1.144e-05   5.46e-07     20.977      0.000    1.04e-05    1.25e-05\n",
       "Count_loc_CicloParqueadero     -4.098e-05   1.54e-06    -26.567      0.000    -4.4e-05    -3.8e-05\n",
       "Count_loc_Museos                6.084e-05   8.32e-07     73.165      0.000    5.92e-05    6.25e-05\n",
       "==============================================================================\n",
       "Omnibus:                     7884.726   Durbin-Watson:                   1.988\n",
       "Prob(Omnibus):                  0.000   Jarque-Bera (JB):            82509.149\n",
       "Skew:                           0.369   Prob(JB):                         0.00\n",
       "Kurtosis:                       9.038   Cond. No.                     2.50e+06\n",
       "==============================================================================\n",
       "\n",
       "Warnings:\n",
       "[1] Standard Errors assume that the covariance matrix of the errors is correctly specified.\n",
       "[2] The condition number is large, 2.5e+06. This might indicate that there are\n",
       "strong multicollinearity or other numerical problems.\n",
       "\"\"\""
      ]
     },
     "execution_count": 8,
     "metadata": {},
     "output_type": "execute_result"
    }
   ],
   "source": [
    "model_log = smf.ols(formula = \"log_precio ~ estrato+zona+log_area+num_banos+area+num_garages+\"\n",
    "                    \"Count_loc_AlojamientoHospedaje+Count_loc_CicloParqueadero+Count_loc_Museos\",data = train).fit()\n",
    "model_log.summary()"
   ]
  },
  {
   "cell_type": "code",
   "execution_count": 7,
   "metadata": {},
   "outputs": [
    {
     "data": {
      "text/plain": [
       "0.19"
      ]
     },
     "execution_count": 7,
     "metadata": {},
     "output_type": "execute_result"
    }
   ],
   "source": [
    "np.round(\n",
    "    np.mean(                                                      # Mean\n",
    "        np.abs(                                                   # Absolute\n",
    "            model_log.predict(test) - test.log_precio    # Error\n",
    "        )\n",
    "    ),\n",
    "2)"
   ]
  },
  {
   "cell_type": "code",
   "execution_count": 8,
   "metadata": {},
   "outputs": [
    {
     "data": {
      "text/plain": [
       "0.255"
      ]
     },
     "execution_count": 8,
     "metadata": {},
     "output_type": "execute_result"
    }
   ],
   "source": [
    "np.round(\n",
    "    np.sqrt(                                                          # Root\n",
    "        np.mean(                                                      # Mean\n",
    "            np.square(                                                # Squared\n",
    "                model_log.predict(test) - test.log_precio     # Error\n",
    "            )\n",
    "        )\n",
    "    ),\n",
    "    decimals=3 # round to 3 decimals\n",
    ")"
   ]
  }
 ],
 "metadata": {
  "kernelspec": {
   "display_name": "Python 3",
   "language": "python",
   "name": "python3"
  },
  "language_info": {
   "codemirror_mode": {
    "name": "ipython",
    "version": 3
   },
   "file_extension": ".py",
   "mimetype": "text/x-python",
   "name": "python",
   "nbconvert_exporter": "python",
   "pygments_lexer": "ipython3",
   "version": "3.7.3"
  }
 },
 "nbformat": 4,
 "nbformat_minor": 2
}
