{
 "cells": [
  {
   "cell_type": "markdown",
   "metadata": {},
   "source": [
    "***Import Library's***"
   ]
  },
  {
   "cell_type": "code",
   "execution_count": 1,
   "metadata": {},
   "outputs": [],
   "source": [
    "import numpy as np\n",
    "import seaborn as sns\n",
    "import pandas as pd\n",
    "import matplotlib.pyplot as plt\n",
    "from scipy import stats\n",
    "%matplotlib inline"
   ]
  },
  {
   "cell_type": "markdown",
   "metadata": {},
   "source": [
    "***Load the data***"
   ]
  },
  {
   "cell_type": "code",
   "execution_count": 2,
   "metadata": {},
   "outputs": [
    {
     "name": "stderr",
     "output_type": "stream",
     "text": [
      "C:\\Users\\RC\\Anaconda3\\lib\\site-packages\\IPython\\core\\interactiveshell.py:3058: DtypeWarning: Columns (8,27,37,44,50,73,75) have mixed types. Specify dtype option on import or set low_memory=False.\n",
      "  interactivity=interactivity, compiler=compiler, result=result)\n",
      "C:\\Users\\RC\\Anaconda3\\lib\\site-packages\\ipykernel_launcher.py:2: FutureWarning: Sorting because non-concatenation axis is not aligned. A future version\n",
      "of pandas will change to not sort by default.\n",
      "\n",
      "To accept the future behavior, pass 'sort=False'.\n",
      "\n",
      "To retain the current behavior and silence the warning, pass 'sort=True'.\n",
      "\n",
      "  \n"
     ]
    },
    {
     "ename": "NameError",
     "evalue": "name 'n_rows' is not defined",
     "output_type": "error",
     "traceback": [
      "\u001b[1;31m---------------------------------------------------------------------------\u001b[0m",
      "\u001b[1;31mNameError\u001b[0m                                 Traceback (most recent call last)",
      "\u001b[1;32m<ipython-input-2-72a5f8b35dbf>\u001b[0m in \u001b[0;36m<module>\u001b[1;34m\u001b[0m\n\u001b[0;32m      3\u001b[0m \u001b[1;33m\u001b[0m\u001b[0m\n\u001b[0;32m      4\u001b[0m \u001b[0mdf_origen\u001b[0m\u001b[1;33m.\u001b[0m\u001b[0mto_csv\u001b[0m\u001b[1;33m(\u001b[0m\u001b[1;34m'2.csv/variables_inmuebles_metrocudrado.csv'\u001b[0m\u001b[1;33m)\u001b[0m\u001b[1;33m\u001b[0m\u001b[1;33m\u001b[0m\u001b[0m\n\u001b[1;32m----> 5\u001b[1;33m \u001b[0mprint\u001b[0m\u001b[1;33m(\u001b[0m\u001b[0mn_rows\u001b[0m\u001b[1;33m)\u001b[0m\u001b[1;33m\u001b[0m\u001b[1;33m\u001b[0m\u001b[0m\n\u001b[0m",
      "\u001b[1;31mNameError\u001b[0m: name 'n_rows' is not defined"
     ]
    }
   ],
   "source": [
    "df_origen = pd.read_csv('2.csv/variables_inmuebles.csv')\n",
    "df_origen = pd.concat([df_origen,pd.read_csv('2.csv/variables_inmuebles2.csv'),pd.read_csv('2.csv/variables_inmuebles3.csv'),pd.read_csv('2.csv/variables_inmuebles4.csv')])\n",
    "\n",
    "df_origen.to_csv('2.csv/variables_inmuebles_metrocudrado.csv')\n",
    "print(n_rows)"
   ]
  },
  {
   "cell_type": "markdown",
   "metadata": {},
   "source": [
    "***Eliminar duplicados***"
   ]
  },
  {
   "cell_type": "code",
   "execution_count": 336,
   "metadata": {},
   "outputs": [
    {
     "name": "stdout",
     "output_type": "stream",
     "text": [
      "16553\n"
     ]
    }
   ],
   "source": [
    "train = df_origen.drop_duplicates().reset_index(drop=True)\n",
    "n_rows,n_columns =train.shape\n",
    "print(n_rows)"
   ]
  },
  {
   "cell_type": "code",
   "execution_count": 337,
   "metadata": {},
   "outputs": [],
   "source": [
    "train[train['Código web']=='100-M2504634'].to_csv('prueba2.csv')"
   ]
  },
  {
   "cell_type": "markdown",
   "metadata": {},
   "source": [
    "***Limpieza de NAN***"
   ]
  },
  {
   "cell_type": "code",
   "execution_count": 277,
   "metadata": {},
   "outputs": [],
   "source": [
    "data_count_null = train.isnull().sum().reset_index(name='q_nan')\n",
    "\n",
    "# Variable identificadas como no utiles\n",
    "columns_to_drop = ['Ancho','Características del Parqueadero','Con muebles','Depósitos','Fondo','Número de Ascensores',\n",
    "                   'Número de Closets','Número de líneas teléfonicas','Terraza/Balcón','Tipo de Cortinas',\n",
    "                   'Tipo de calentador','Tipo de estufa','Tipo de parqueadero','Tipo de piso en alcobas',\n",
    "                   'Tipo de piso en comedor','Tipo de piso en estudio','Tipo de piso en sala','Tipo instalación de gas',\n",
    "                   'Valor de arriendo','areaPrivada','businessTypeId','cityname','hdCompanyUrl','hdIsOcasional',\n",
    "                   'hdnBusinessType','nameProperty','nomBarrio','nombreEmpresa','propertyTypeId','valorArriendo',\n",
    "                   'Área Terraza/Balcón','Área privada','Habitaciones',\n",
    "                  'Área construida','Área del lote','Baños']\n",
    "\n",
    "#identifica los campos que tengan el 90% de sus \n",
    "for columns in data_count_null[data_count_null['q_nan']==(n_rows)]['index']:\n",
    "    columns_to_drop.append(columns)\n",
    "\n",
    "train = train.drop(columns_to_drop,axis='columns')"
   ]
  },
  {
   "cell_type": "markdown",
   "metadata": {},
   "source": [
    "***Manejo de extras o complementos***"
   ]
  },
  {
   "cell_type": "markdown",
   "metadata": {},
   "source": [
    "- Extra1: El campo viene con las descripciones de los compementos -- No se debe hacer cambios\n",
    "- Extra2: Contiene si o no, se debe tomar el nombre del campo como el atributo de complemento\n",
    "- Extra3: El campo contiene la descripción y dentro de la misma indica que tipo de extra es\n",
    "- Extra4: El campo contiene la descripción pero es necesario complementar la información con el nombre del campo"
   ]
  },
  {
   "cell_type": "code",
   "execution_count": 304,
   "metadata": {},
   "outputs": [],
   "source": [
    "train_test = train.copy()"
   ]
  },
  {
   "cell_type": "code",
   "execution_count": 305,
   "metadata": {},
   "outputs": [],
   "source": [
    "extra2_descripcion = ['Ascensor','Cerca Centros Comerciales','Cerca Colegios / Universidades','Cerca Parques',\n",
    "                      'Cerca Supermercados','Cerca Transporte Público','Conjunto cerrado','Cuarto de servicio',\n",
    "                      'En interior y/o bloque','Esquinero','Estudio o biblioteca','Parqueadero cubierto',\n",
    "                      'Zona de BBQ','Zona de lavanderia']\n",
    "\n",
    "train_test['extra2'] = ''\n",
    "for extra2 in extra2_descripcion:\n",
    "    train_test[extra2] = train_test[extra2].apply(lambda x: extra2+',' if x == 'Si' else '')\n",
    "    train_test['extra2'] = train_test['extra2']+train_test[extra2]\n",
    "    #train_test = train_test.drop([extra2],axis='columns')\n"
   ]
  },
  {
   "cell_type": "code",
   "execution_count": 306,
   "metadata": {},
   "outputs": [],
   "source": [
    "extra3_descripcion = ['Tipo comedor','Tipo de Casa','Tipo de acabado piso']\n",
    "\n",
    "train_test['extra3'] = ''\n",
    "for extra3 in extra3_descripcion:\n",
    "    train_test[extra3] = train_test[extra3].apply(lambda x: x+',' if x==x else '')\n",
    "    train_test['extra3'] = train_test['extra3']+train_test[extra3]\n",
    "    train_test = train_test.drop([extra3],axis='columns')"
   ]
  },
  {
   "cell_type": "code",
   "execution_count": 307,
   "metadata": {},
   "outputs": [],
   "source": [
    "extra4_descripcion = ['Tipo de Cocina','Vigilancia','Vista']\n",
    "\n",
    "train_test['extra4'] = ''\n",
    "for extra4 in extra4_descripcion:\n",
    "    \n",
    "    train_test[extra4] = train_test[extra4].apply(lambda x: extra4+' '+str(x)+',' if x==x else ' ')\n",
    "    train_test['extra4'] = train_test['extra4']+train_test[extra4]\n",
    "    train_test = train_test.drop([extra4],axis='columns')\n"
   ]
  },
  {
   "cell_type": "code",
   "execution_count": 315,
   "metadata": {},
   "outputs": [],
   "source": [
    "train_test['extra'] = train_test['complemento']+train_test['extra2']+train_test['extra3']+train_test['extra4']\n"
   ]
  },
  {
   "cell_type": "code",
   "execution_count": 317,
   "metadata": {},
   "outputs": [],
   "source": [
    "train = train_test.drop(['complemento','extra2','extra3','extra4'],axis='columns').copy()"
   ]
  },
  {
   "cell_type": "markdown",
   "metadata": {},
   "source": [
    "***Homologacion de campos***"
   ]
  },
  {
   "cell_type": "code",
   "execution_count": 334,
   "metadata": {},
   "outputs": [],
   "source": [
    "train[train['Código web']=='100-M2504634'].to_csv('prueba2.csv')"
   ]
  },
  {
   "cell_type": "code",
   "execution_count": 333,
   "metadata": {
    "scrolled": true
   },
   "outputs": [
    {
     "name": "stdout",
     "output_type": "stream",
     "text": [
      "**** Parqueadero\n",
      "['1.0' nan '2.0' '3.0' '4 o más' '2' '1' '3' '4+']\n",
      "**** numGaraje\n",
      "['1.0' '0.0' '2.0' '3.0' '4.0' nan '4+' '3' '2' '4' '0' '1']\n",
      "**** Código web\n",
      "['2571-M2012354' '920-42149736' '607-M2267033' ... '603-M2373742'\n",
      " '639-M4769' '9-2019050003']\n"
     ]
    }
   ],
   "source": [
    "x = ['Parqueadero','numGaraje','Código web']\n",
    "train[x].to_csv('prueba.csv')\n",
    "\n",
    "for y in x:\n",
    "    print(\"****\",y)\n",
    "    print(train[y].unique())"
   ]
  },
  {
   "cell_type": "code",
   "execution_count": null,
   "metadata": {},
   "outputs": [],
   "source": [
    "homologacion_columns = {'Category1':'tipo_inueble',\n",
    "                        'Location3':'zona',\n",
    "                        'Nombre común del barrio':'barrio1', \n",
    "                        'Nombre del barrio catastral':'sector_catastral', \n",
    "                        'description':'descripcion', \n",
    "                        'Price':'precio',\n",
    "                        'ContractType':'tipo_contrato',\n",
    "                        'areaConstruida':'area', \n",
    "                        'Address':'direccion', \n",
    "                        'Rooms':'numero_habitaciones', \n",
    "                        'numBanos':'num_banos',\n",
    "                        'Tiempo de construido':'edad',\n",
    "                        'Condition':'condicion', \n",
    "                        'Floor': 'piso_ubicacion', \n",
    "                        'AdministrationPrice':'precio_administracion',\n",
    "                        'Estrato':'estrato',\n",
    "                        'Garages':'num_garages',\n",
    "                        'Extras':'extras', \n",
    "                        'latitude':'latitude',\n",
    "                        'longitude':'longitude',\n",
    "                        'InteriorFloors':'piso_interior',\n",
    "                        'Código web':'id_inmueble'}\n",
    "\n",
    "train = train.rename(columns = homologacion_columns)"
   ]
  }
 ],
 "metadata": {
  "kernelspec": {
   "display_name": "Python 3",
   "language": "python",
   "name": "python3"
  },
  "language_info": {
   "codemirror_mode": {
    "name": "ipython",
    "version": 3
   },
   "file_extension": ".py",
   "mimetype": "text/x-python",
   "name": "python",
   "nbconvert_exporter": "python",
   "pygments_lexer": "ipython3",
   "version": "3.7.3"
  }
 },
 "nbformat": 4,
 "nbformat_minor": 2
}
