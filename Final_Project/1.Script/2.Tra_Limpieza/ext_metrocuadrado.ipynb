{
 "cells": [
  {
   "cell_type": "code",
   "execution_count": 1,
   "metadata": {},
   "outputs": [],
   "source": [
    "# Libraries needed for basic web-scraping\n",
    "from IPython.core.display import HTML\n",
    "from bs4 import BeautifulSoup\n",
    "import requests # package required to interact with live webpage\n",
    "import pandas as pd # will use to store the data from the webpage\n",
    "import csv\n",
    "import time\n",
    "import os.path as path"
   ]
  },
  {
   "cell_type": "markdown",
   "metadata": {},
   "source": [
    "***Functions***"
   ]
  },
  {
   "cell_type": "code",
   "execution_count": 42,
   "metadata": {},
   "outputs": [
    {
     "name": "stdout",
     "output_type": "stream",
     "text": [
      "   Ciudad  campo5  campo2\n",
      "0       2       2       2\n"
     ]
    }
   ],
   "source": [
    "a = pd.DataFrame(columns=['Ciudad','campo5','campo2'])\n",
    "a['Ciudad'] = [2]\n",
    "a['campo5'] = [2]\n",
    "a['campo2'] = [2]\n",
    "a.to_csv('a.csv',header=True,index=False,mode='a')\n",
    "print(a)\n",
    "b = pd.DataFrame(columns=['Ciudad','campo3'])\n",
    "b['Ciudad'] = [1]\n",
    "b['campo3'] = [4]\n",
    "b['campo5'] = [4]"
   ]
  },
  {
   "cell_type": "code",
   "execution_count": 43,
   "metadata": {},
   "outputs": [
    {
     "data": {
      "text/html": [
       "<div>\n",
       "<style scoped>\n",
       "    .dataframe tbody tr th:only-of-type {\n",
       "        vertical-align: middle;\n",
       "    }\n",
       "\n",
       "    .dataframe tbody tr th {\n",
       "        vertical-align: top;\n",
       "    }\n",
       "\n",
       "    .dataframe thead th {\n",
       "        text-align: right;\n",
       "    }\n",
       "</style>\n",
       "<table border=\"1\" class=\"dataframe\">\n",
       "  <thead>\n",
       "    <tr style=\"text-align: right;\">\n",
       "      <th></th>\n",
       "      <th>Ciudad</th>\n",
       "      <th>campo2</th>\n",
       "      <th>campo3</th>\n",
       "      <th>campo5</th>\n",
       "    </tr>\n",
       "  </thead>\n",
       "  <tbody>\n",
       "    <tr>\n",
       "      <td>0</td>\n",
       "      <td>2</td>\n",
       "      <td>2.0</td>\n",
       "      <td>NaN</td>\n",
       "      <td>2</td>\n",
       "    </tr>\n",
       "    <tr>\n",
       "      <td>0</td>\n",
       "      <td>1</td>\n",
       "      <td>NaN</td>\n",
       "      <td>4.0</td>\n",
       "      <td>4</td>\n",
       "    </tr>\n",
       "  </tbody>\n",
       "</table>\n",
       "</div>"
      ],
      "text/plain": [
       "   Ciudad  campo2  campo3  campo5\n",
       "0       2     2.0     NaN       2\n",
       "0       1     NaN     4.0       4"
      ]
     },
     "execution_count": 43,
     "metadata": {},
     "output_type": "execute_result"
    }
   ],
   "source": [
    "c = pd.concat([a,b],sort='False')\n",
    "c"
   ]
  },
  {
   "cell_type": "code",
   "execution_count": 21,
   "metadata": {},
   "outputs": [],
   "source": [
    "'''\n",
    "url = Url de la pagina a consultar\n",
    "name_file_out = Nombre del archivo con el cual desea guardar los datos consultados\n",
    "'''\n",
    "def get_page_html(url, name_file_out,is_save):\n",
    "    site_content = requests.get(url).text\n",
    "    if is_save == 1:\n",
    "        with open(name_file_out+'.html', 'w', encoding=\"utf-8\") as f:\n",
    "            f.write(site_content)\n",
    "    return site_content\n",
    "        \n",
    "def get_links_from_page_m2(site_content):\n",
    "    s = BeautifulSoup(site_content, 'html.parser')\n",
    "    offset = 3\n",
    "    cont = 0\n",
    "    list_inmuebles = []\n",
    "    for t in s.find_all(\"a\"):\n",
    "        if len(str(t.get('href')).split(\"/\")) > offset:\n",
    "            if str(t.get('href')).split(\"/\")[offset] == 'inmueble':\n",
    "                cont += 1\n",
    "                list_inmuebles.append(t.get('href'))\n",
    "    return list_inmuebles\n",
    "\n",
    "def save_df(data, path_name, typ_insert,header):\n",
    "    #with open(path_name, typ_insert) as f:\n",
    "    data.to_csv(path_name,header=header,index=False,mode=typ_insert)"
   ]
  },
  {
   "cell_type": "code",
   "execution_count": 22,
   "metadata": {},
   "outputs": [],
   "source": [
    "fecha_actual = time.strftime(\"%Y_%m_%d\")\n",
    "if not path.exists('2.csv/'):\n",
    "    os.mkdir('2.csv/')"
   ]
  },
  {
   "cell_type": "code",
   "execution_count": 1,
   "metadata": {},
   "outputs": [
    {
     "ename": "NameError",
     "evalue": "name 'pd' is not defined",
     "output_type": "error",
     "traceback": [
      "\u001b[1;31m---------------------------------------------------------------------------\u001b[0m",
      "\u001b[1;31mNameError\u001b[0m                                 Traceback (most recent call last)",
      "\u001b[1;32m<ipython-input-1-38122670e50d>\u001b[0m in \u001b[0;36m<module>\u001b[1;34m\u001b[0m\n\u001b[0;32m     16\u001b[0m                     \u001b[1;32mif\u001b[0m \u001b[0mi\u001b[0m\u001b[1;33m%\u001b[0m\u001b[1;36m10\u001b[0m \u001b[1;33m==\u001b[0m \u001b[1;36m0\u001b[0m\u001b[1;33m:\u001b[0m\u001b[1;33m\u001b[0m\u001b[1;33m\u001b[0m\u001b[0m\n\u001b[0;32m     17\u001b[0m                         \u001b[0mtime\u001b[0m\u001b[1;33m.\u001b[0m\u001b[0msleep\u001b[0m\u001b[1;33m(\u001b[0m\u001b[1;36m10\u001b[0m\u001b[1;33m)\u001b[0m\u001b[1;33m\u001b[0m\u001b[1;33m\u001b[0m\u001b[0m\n\u001b[1;32m---> 18\u001b[1;33m                     \u001b[0mdf_url_inmuebles_new\u001b[0m \u001b[1;33m=\u001b[0m \u001b[0mpd\u001b[0m\u001b[1;33m.\u001b[0m\u001b[0mDataFrame\u001b[0m\u001b[1;33m(\u001b[0m \u001b[0mcolumns\u001b[0m\u001b[1;33m=\u001b[0m\u001b[1;33m[\u001b[0m\u001b[1;34m'ciudad'\u001b[0m\u001b[1;33m,\u001b[0m\u001b[1;34m'tipo_negocio'\u001b[0m\u001b[1;33m,\u001b[0m\u001b[1;34m'tipo_inmueble'\u001b[0m\u001b[1;33m,\u001b[0m\u001b[1;34m'fecha_consulta'\u001b[0m\u001b[1;33m,\u001b[0m\u001b[1;34m'currentPage'\u001b[0m\u001b[1;33m,\u001b[0m\u001b[1;34m'url_inmuebles'\u001b[0m\u001b[1;33m]\u001b[0m\u001b[1;33m)\u001b[0m\u001b[1;33m\u001b[0m\u001b[1;33m\u001b[0m\u001b[0m\n\u001b[0m\u001b[0;32m     19\u001b[0m                     \u001b[0mcurrentPage\u001b[0m \u001b[1;33m=\u001b[0m \u001b[0mstr\u001b[0m\u001b[1;33m(\u001b[0m\u001b[0mi\u001b[0m\u001b[1;33m)\u001b[0m\u001b[1;33m\u001b[0m\u001b[1;33m\u001b[0m\u001b[0m\n\u001b[0;32m     20\u001b[0m                     \u001b[1;31m#name_file = ciudad+'_'+mtiponegocio+'_'+mtipoinmueble+fecha_actual\u001b[0m\u001b[1;33m\u001b[0m\u001b[1;33m\u001b[0m\u001b[1;33m\u001b[0m\u001b[0m\n",
      "\u001b[1;31mNameError\u001b[0m: name 'pd' is not defined"
     ]
    }
   ],
   "source": [
    "# Scrape data from website\n",
    "url_path = 'https://www.metrocuadrado.com//search/list/non-ajax/?'\n",
    "list_ciudad = ['bogota'] # Listado de las ciudades donde se hace la busqueda\n",
    "list_mtiponegocio = ['venta'] # Listado del tipo de negocio a buscar\n",
    "list_mtipoinmueble = ['casas','apartamentos'] # Tipo de inmueble a consultar\n",
    "list_zona = ['chapinero','suba','ciudad bolivar']\n",
    "list_banos = ['1','2','3','4','5']\n",
    "\n",
    "for ciudad in list_ciudad:\n",
    "    for mtiponegocio in list_mtiponegocio:\n",
    "        for mtipoinmueble in list_mtipoinmueble:\n",
    "            for mnumbano in list_banos:\n",
    "                # Número de paginas a consultar\n",
    "                for i in range(1,2):\n",
    "                    list_total = []\n",
    "                    if i%10 == 0:\n",
    "                        time.sleep(10)\n",
    "                    df_url_inmuebles_new = pd.DataFrame( columns=['ciudad','tipo_negocio','tipo_inmueble','fecha_consulta','currentPage','url_inmuebles'])\n",
    "                    currentPage = str(i)\n",
    "                    #name_file = ciudad+'_'+mtiponegocio+'_'+mtipoinmueble+fecha_actual\n",
    "                    name_file = 'listado_link_inmuebles_metrocuadrado'\n",
    "                    site_url= url_path+'&mciudad='+ciudad+'&mnrobanos='+mnumbano+'&mtiponegocio='+mtiponegocio+'&mtipoinmueble='+mtipoinmueble+'&mzona=&msector=&mbarrio=&selectedLocationCategory=&selectedLocationFilter=&mestadoinmueble=&madicionales=&orderBy=&sortType=&companyType=&companyName=&midempresa=&mgrupo=&mgrupoid=&mbasico=&msemillero=&currentPage='+currentPage+'&totalPropertiesCount=999999&totalUsedPropertiesCount=999999&totalNewPropertiesCount=0&sfh=1#2259-92874B1'\n",
    "                    site_content = get_page_html(site_url,'1.html/'+name_file+'.html',0)\n",
    "                    list_total = list_total + get_links_from_page_m2(site_content)\n",
    "                    list_total.sort()\n",
    "                    list_total = list(set(list_total))\n",
    "                    df_url_inmuebles_new['url_inmuebles'] = list_total\n",
    "                    df_url_inmuebles_new['currentPage'] = currentPage\n",
    "                    df_url_inmuebles_new['ciudad'] = ciudad\n",
    "                    df_url_inmuebles_new['tipo_negocio'] = mtiponegocio\n",
    "                    df_url_inmuebles_new['tipo_inmueble'] = mtipoinmueble\n",
    "                    df_url_inmuebles_new['fecha_consulta'] = fecha_actual\n",
    "                    if (path.exists('2.csv/'+name_file+'.csv')):\n",
    "                        save_df(df_url_inmuebles_new,'2.csv/'+name_file+'.csv','a',False)\n",
    "                    else:\n",
    "                        save_df(df_url_inmuebles_new,'2.csv/'+name_file+'.csv','w',True)"
   ]
  },
  {
   "cell_type": "code",
   "execution_count": 111,
   "metadata": {},
   "outputs": [],
   "source": [
    "'''csvfile = \"example.csv\"\n",
    "with open(csvfile, \"a\") as output:\n",
    "    writer = csv.writer(output, lineterminator='\\n')\n",
    "    A1 = disct_total['ciudad']\n",
    "    A2 = disct_total['tipo_negocio']\n",
    "    A3 = disct_total['tipo_inmueble']\n",
    "    A4 = disct_total['fecha_consulta']\n",
    "    A5 = disct_total['url_inmuebles']\n",
    "    writer.writerow([A1, A2, A3, A4, A5])'''"
   ]
  },
  {
   "cell_type": "code",
   "execution_count": 73,
   "metadata": {},
   "outputs": [
    {
     "data": {
      "text/plain": [
       "\"for key in atributs_list.keys():\\n    print(key+': '+atributs_list.get(key))\""
      ]
     },
     "execution_count": 73,
     "metadata": {},
     "output_type": "execute_result"
    }
   ],
   "source": [
    "#\n",
    "'''list_atributes = {'nombreEmpresa','propertyId','propertyType','propertyTypeId',\n",
    "                'businessTypeId','hdnBusinessType','cityname','hdCompanyUrl',\n",
    "                 'hdIsOcasional','propertyPrice','valorVenta','valorArriendo',\n",
    "                 'areaPrivada','areaConstruida','numHabitaciones','numBanos',\n",
    "                 'numGaraje','nomBarrio','zona','nameProperty','latitude','longitude'}\n",
    "\n",
    "for inmueble in df_test2[0][100:3000]:\n",
    "    atributs_list = {}\n",
    "    print(inmueble)\n",
    "    name = inmueble.split('/')[5]+'.html'\n",
    "    print(name)\n",
    "    site_content = get_page_html(inmueble, name)\n",
    "    time.sleep(5)\n",
    "    s = BeautifulSoup(site_content, 'html.parser')  \n",
    "    \n",
    "    for atributs in s.find_all(\"input\"):\n",
    "        id = atributs.get('id')\n",
    "        value = atributs.get('value')\n",
    "        if id is not None and value is not None:\n",
    "            if id in list_atributes:\n",
    "                atributs_list[id] = str(value)\n",
    "                #print(id+': '+value)\n",
    "    atributs_list['description'] = s.find('p',{'id':'pDescription'}).text\n",
    "    div = s.find('div',{'class':'m_property_info_details'})\n",
    "    try:\n",
    "        for each in div.find_all('dl'):\n",
    "            id = each.find('h3').text\n",
    "            text = each.find('h4').text\n",
    "            atributs_list[id] = str(text)\n",
    "    except:\n",
    "        print('m_property_info_details')\n",
    "    \n",
    "    try:\n",
    "        div = s.find('div',{'class':'m_property_info_details more_info'})\n",
    "        for each in div.find_all('dl'):\n",
    "            id = each.find('h3').text\n",
    "            text = each.find('h4').text\n",
    "            atributs_list[id] = str(text)\n",
    "    except:\n",
    "        print('m_property_info_details more_info')\n",
    "    \n",
    "    try:\n",
    "        div = s.find('div',{'class':'m_property_info_details services complements'})\n",
    "        cont = 1\n",
    "        for each in div.find_all('li'):\n",
    "            id = 'complemento_'+str(cont)\n",
    "            text = each.find('h4').text\n",
    "            atributs_list[id] = str(text)\n",
    "            cont += 1\n",
    "    except:\n",
    "        print('m_property_info_details services complements')\n",
    "        \n",
    "    asd = pd.DataFrame.from_dict(atributs_list, orient=\"index\")\n",
    "    asd.to_csv('csv2/'+name+'.csv')'''\n",
    "'''for key in atributs_list.keys():\n",
    "    print(key+': '+atributs_list.get(key))'''''"
   ]
  },
  {
   "cell_type": "code",
   "execution_count": 17,
   "metadata": {},
   "outputs": [
    {
     "data": {
      "text/html": [
       "<div>\n",
       "<style scoped>\n",
       "    .dataframe tbody tr th:only-of-type {\n",
       "        vertical-align: middle;\n",
       "    }\n",
       "\n",
       "    .dataframe tbody tr th {\n",
       "        vertical-align: top;\n",
       "    }\n",
       "\n",
       "    .dataframe thead th {\n",
       "        text-align: right;\n",
       "    }\n",
       "</style>\n",
       "<table border=\"1\" class=\"dataframe\">\n",
       "  <thead>\n",
       "    <tr style=\"text-align: right;\">\n",
       "      <th></th>\n",
       "      <th>url</th>\n",
       "    </tr>\n",
       "  </thead>\n",
       "  <tbody>\n",
       "    <tr>\n",
       "      <td>0</td>\n",
       "      <td>https://www.metrocuadrado.com/inmueble/venta-c...</td>\n",
       "    </tr>\n",
       "    <tr>\n",
       "      <td>1</td>\n",
       "      <td>https://www.metrocuadrado.com/inmueble/venta-c...</td>\n",
       "    </tr>\n",
       "    <tr>\n",
       "      <td>2</td>\n",
       "      <td>https://www.metrocuadrado.com/inmueble/venta-c...</td>\n",
       "    </tr>\n",
       "    <tr>\n",
       "      <td>3</td>\n",
       "      <td>https://www.metrocuadrado.com/inmueble/venta-c...</td>\n",
       "    </tr>\n",
       "    <tr>\n",
       "      <td>4</td>\n",
       "      <td>https://www.metrocuadrado.com/inmueble/venta-c...</td>\n",
       "    </tr>\n",
       "    <tr>\n",
       "      <td>...</td>\n",
       "      <td>...</td>\n",
       "    </tr>\n",
       "    <tr>\n",
       "      <td>512</td>\n",
       "      <td>https://www.metrocuadrado.com/inmueble/venta-c...</td>\n",
       "    </tr>\n",
       "    <tr>\n",
       "      <td>513</td>\n",
       "      <td>https://www.metrocuadrado.com/inmueble/venta-a...</td>\n",
       "    </tr>\n",
       "    <tr>\n",
       "      <td>514</td>\n",
       "      <td>https://www.metrocuadrado.com/inmueble/venta-a...</td>\n",
       "    </tr>\n",
       "    <tr>\n",
       "      <td>515</td>\n",
       "      <td>https://www.metrocuadrado.com/inmueble/venta-c...</td>\n",
       "    </tr>\n",
       "    <tr>\n",
       "      <td>516</td>\n",
       "      <td>https://www.metrocuadrado.com/inmueble/venta-a...</td>\n",
       "    </tr>\n",
       "  </tbody>\n",
       "</table>\n",
       "<p>517 rows × 1 columns</p>\n",
       "</div>"
      ],
      "text/plain": [
       "                                                   url\n",
       "0    https://www.metrocuadrado.com/inmueble/venta-c...\n",
       "1    https://www.metrocuadrado.com/inmueble/venta-c...\n",
       "2    https://www.metrocuadrado.com/inmueble/venta-c...\n",
       "3    https://www.metrocuadrado.com/inmueble/venta-c...\n",
       "4    https://www.metrocuadrado.com/inmueble/venta-c...\n",
       "..                                                 ...\n",
       "512  https://www.metrocuadrado.com/inmueble/venta-c...\n",
       "513  https://www.metrocuadrado.com/inmueble/venta-a...\n",
       "514  https://www.metrocuadrado.com/inmueble/venta-a...\n",
       "515  https://www.metrocuadrado.com/inmueble/venta-c...\n",
       "516  https://www.metrocuadrado.com/inmueble/venta-a...\n",
       "\n",
       "[517 rows x 1 columns]"
      ]
     },
     "execution_count": 17,
     "metadata": {},
     "output_type": "execute_result"
    }
   ],
   "source": [
    "df_test = pd.read_csv('2.csv/listado_link_inmuebles_metrocuadrado.csv')\n",
    "pd.DataFrame(df_test['url_inmuebles'].unique(),columns=['url'])"
   ]
  },
  {
   "cell_type": "code",
   "execution_count": 19,
   "metadata": {},
   "outputs": [
    {
     "name": "stdout",
     "output_type": "stream",
     "text": [
      "https://www.metrocuadrado.com/inmueble/venta-casa-bogota-predio-caldas-2-habitaciones-1-banos/920-42149736\n"
     ]
    }
   ],
   "source": [
    "for inmueble in df_test['url_inmuebles'][0:1]:\n",
    "    print(inmueble)"
   ]
  },
  {
   "cell_type": "code",
   "execution_count": 55,
   "metadata": {},
   "outputs": [
    {
     "name": "stdout",
     "output_type": "stream",
     "text": [
      "920-42149736\n",
      "607-M2267033\n",
      "774-3645\n",
      "2996-M2271118\n",
      "2328-M2482408\n",
      "5115-M2355477\n",
      "MC2539353\n",
      "3008-80417\n",
      "633-211\n",
      "2571-M2405158\n",
      "2571-M2012354\n"
     ]
    }
   ],
   "source": [
    "\n",
    "list_atributes = {'nombreEmpresa','propertyId','propertyType','propertyTypeId',\n",
    "                'businessTypeId','hdnBusinessType','cityname','hdCompanyUrl',\n",
    "                 'hdIsOcasional','propertyPrice','valorVenta','valorArriendo',\n",
    "                 'areaPrivada','areaConstruida','numHabitaciones','numBanos',\n",
    "                 'numGaraje','nomBarrio','zona','nameProperty','latitude','longitude'}\n",
    "\n",
    "\n",
    "atributs_list = {}\n",
    "cont = 0\n",
    "name_file_all = 'variables_inmuebles'\n",
    "\n",
    "\n",
    "if (path.exists('2.csv/'+name_file_all+'.csv')):\n",
    "    old_inmueble_inmueble = pd.read_csv('2.csv/'+name_file_all+'.csv')\n",
    "else:\n",
    "    old_inmueble_inmueble= pd.DataFrame(columns=['Código web'])\n",
    "\n",
    "for inmueble in df_test['url_inmuebles'][0:11]:\n",
    "    \n",
    "    if cont%10 == 0:\n",
    "        time.sleep(10)\n",
    "    name = inmueble.split('/')[5]\n",
    "\n",
    "    if name not in list(old_inmueble_inmueble['Código web']):\n",
    "        cont += 1\n",
    "        site_content = get_page_html(inmueble, name,0)\n",
    "        s = BeautifulSoup(site_content, 'html.parser') \n",
    "        is_despublicado = 0\n",
    "        try:\n",
    "            if s.find(\"span\",{'class':'label label-default'}).text =='Despublicado':\n",
    "                is_despublicado= 1\n",
    "        except:\n",
    "            is_despublicado= 0\n",
    "\n",
    "        if is_despublicado == 1:\n",
    "            print(\"despublicado\")\n",
    "        else:\n",
    "            for atributs in s.find_all(\"input\"):\n",
    "                id = atributs.get('id')\n",
    "                value = atributs.get('value')\n",
    "                if id is not None and value is not None:\n",
    "                    if id in list_atributes:\n",
    "                        atributs_list[id] = str(value)\n",
    "                        #print(id+': '+value)\n",
    "            atributs_list['description'] = s.find('p',{'id':'pDescription'}).text\n",
    "            div = s.find('div',{'class':'m_property_info_details'})\n",
    "\n",
    "            try:\n",
    "                for each in div.find_all('dl'):\n",
    "                    id = each.find('h3').text\n",
    "                    text = each.find('h4').text\n",
    "                    atributs_list[id] = str(text)\n",
    "            except:\n",
    "                print('m_property_info_details')\n",
    "\n",
    "            try:\n",
    "                div = s.find('div',{'class':'m_property_info_details more_info'})\n",
    "                for each in div.find_all('dl'):\n",
    "                    id = each.find('h3').text\n",
    "                    text = each.find('h4').text\n",
    "                    atributs_list[id] = str(text)\n",
    "            except:\n",
    "                print('m_property_info_details more_info')\n",
    "\n",
    "            try:\n",
    "                cont = 1\n",
    "                for div in s.find_all('div',{'class':'m_property_info_details services complements'}):\n",
    "                    text = ''\n",
    "                    for each in div.find_all('li'):\n",
    "                        text = each.find('h4').text +','+text\n",
    "                        #atributs_list[id] = str(text)\n",
    "                        cont += 1\n",
    "                    atributs_list['complemento'] = str(text)\n",
    "            except:\n",
    "                print('m_property_info_details services complements')\n",
    "\n",
    "            new_inmueble = pd.DataFrame()\n",
    "            for key in atributs_list.keys():\n",
    "                new_inmueble[key] = [atributs_list.get(key)]\n",
    "            if (path.exists('2.csv/'+name_file_all+'.csv')):\n",
    "                old_inmueble = pd.read_csv('2.csv/'+name_file_all+'.csv')\n",
    "                new_inmueble = pd.concat([old_inmueble,new_inmueble])\n",
    "                save_df(new_inmueble,'2.csv/'+name_file_all+'.csv','w',True)\n",
    "            else:\n",
    "                save_df(new_inmueble,'2.csv/'+name_file_all+'.csv','w',True)"
   ]
  },
  {
   "cell_type": "code",
   "execution_count": null,
   "metadata": {},
   "outputs": [],
   "source": [
    "with open(csvfile, \"a\") as output:\n",
    "    writer = csv.writer(output, lineterminator='\\n')\n",
    "    A1 = disct_total['ciudad']\n",
    "    A2 = disct_total['tipo_negocio']\n",
    "    A3 = disct_total['tipo_inmueble']\n",
    "    A4 = disct_total['fecha_consulta']\n",
    "    A5 = disct_total['url_inmuebles']\n",
    "    writer.writerow([A1, A2, A3, A4, A5])'''"
   ]
  },
  {
   "cell_type": "code",
   "execution_count": 93,
   "metadata": {},
   "outputs": [
    {
     "data": {
      "text/html": [
       "<div>\n",
       "<style scoped>\n",
       "    .dataframe tbody tr th:only-of-type {\n",
       "        vertical-align: middle;\n",
       "    }\n",
       "\n",
       "    .dataframe tbody tr th {\n",
       "        vertical-align: top;\n",
       "    }\n",
       "\n",
       "    .dataframe thead th {\n",
       "        text-align: right;\n",
       "    }\n",
       "</style>\n",
       "<table border=\"1\" class=\"dataframe\">\n",
       "  <thead>\n",
       "    <tr style=\"text-align: right;\">\n",
       "      <th></th>\n",
       "      <th>0</th>\n",
       "    </tr>\n",
       "  </thead>\n",
       "  <tbody>\n",
       "    <tr>\n",
       "      <td>0</td>\n",
       "      <td>https://www.metrocuadrado.com/inmueble/venta-a...</td>\n",
       "    </tr>\n",
       "  </tbody>\n",
       "</table>\n",
       "</div>"
      ],
      "text/plain": [
       "                                                   0\n",
       "0  https://www.metrocuadrado.com/inmueble/venta-a..."
      ]
     },
     "execution_count": 93,
     "metadata": {},
     "output_type": "execute_result"
    }
   ],
   "source": [
    "df_test\n",
    "#site_content\n"
   ]
  }
 ],
 "metadata": {
  "kernelspec": {
   "display_name": "Python 3",
   "language": "python",
   "name": "python3"
  },
  "language_info": {
   "codemirror_mode": {
    "name": "ipython",
    "version": 3
   },
   "file_extension": ".py",
   "mimetype": "text/x-python",
   "name": "python",
   "nbconvert_exporter": "python",
   "pygments_lexer": "ipython3",
   "version": "3.7.3"
  }
 },
 "nbformat": 4,
 "nbformat_minor": 2
}
