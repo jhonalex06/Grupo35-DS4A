{
 "cells": [
  {
   "cell_type": "markdown",
   "metadata": {},
   "source": [
    "***Import Library's***"
   ]
  },
  {
   "cell_type": "code",
   "execution_count": 1,
   "metadata": {},
   "outputs": [],
   "source": [
    "import numpy as np\n",
    "import seaborn as sns\n",
    "import pandas as pd\n",
    "import matplotlib.pyplot as plt\n",
    "from scipy import stats\n",
    "%matplotlib inline"
   ]
  },
  {
   "cell_type": "markdown",
   "metadata": {},
   "source": [
    "***Load the data***"
   ]
  },
  {
   "cell_type": "code",
   "execution_count": 2,
   "metadata": {},
   "outputs": [
    {
     "name": "stdout",
     "output_type": "stream",
     "text": [
      "Proceso de estandarizacion inmuebles de metrocuadrado\n",
      "- Cargando data set .....\n",
      "- Cantidad de registros data set original:  30496\n"
     ]
    },
    {
     "name": "stderr",
     "output_type": "stream",
     "text": [
      "C:\\Users\\RC\\Anaconda3\\lib\\site-packages\\IPython\\core\\interactiveshell.py:3058: DtypeWarning: Columns (10,13,26,29,36,38,43,45,52,58,60,69,82,84,94) have mixed types. Specify dtype option on import or set low_memory=False.\n",
      "  interactivity=interactivity, compiler=compiler, result=result)\n"
     ]
    }
   ],
   "source": [
    "print(\"Proceso de estandarizacion inmuebles de metrocuadrado\")\n",
    "print(\"- Cargando data set .....\")\n",
    "\n",
    "df_origen = pd.read_csv('../../2.Export/1.Ext/variables_inmuebles_metrocudrado.zip')\n",
    "n_rows_ori,n_columns_ori =df_origen.shape\n",
    "print(\"- Cantidad de registros data set original: \",n_rows_ori)"
   ]
  },
  {
   "cell_type": "markdown",
   "metadata": {},
   "source": [
    "***Eliminar duplicados***"
   ]
  },
  {
   "cell_type": "code",
   "execution_count": 3,
   "metadata": {},
   "outputs": [
    {
     "name": "stdout",
     "output_type": "stream",
     "text": [
      "- Eliminar duplicados\n",
      "- Cantidad de registros ahora:  30496  # duplicados:  0\n"
     ]
    }
   ],
   "source": [
    "print(\"- Eliminar duplicados\")\n",
    "train = df_origen.drop_duplicates().reset_index(drop=True)\n",
    "n_rows,n_columns =train.shape\n",
    "n_row_drop = n_rows_ori - n_rows\n",
    "print(\"- Cantidad de registros ahora: \",n_rows,\" # duplicados: \",n_row_drop)"
   ]
  },
  {
   "cell_type": "markdown",
   "metadata": {},
   "source": [
    "***Limpieza de NAN***"
   ]
  },
  {
   "cell_type": "code",
   "execution_count": 4,
   "metadata": {},
   "outputs": [],
   "source": [
    "data_count_null = train.isnull().sum().reset_index(name='q_nan')\n",
    "\n",
    "# Variable identificadas como no utiles\n",
    "columns_to_drop = ['Ancho','Características del Parqueadero','Con muebles','Depósitos','Fondo','Número de Ascensores',\n",
    "                   'Número de Closets','Número de líneas teléfonicas','Terraza/Balcón','Tipo de Cortinas',\n",
    "                   'Tipo de calentador','Tipo de estufa','Tipo de parqueadero','Tipo de piso en alcobas',\n",
    "                   'Tipo de piso en comedor','Tipo de piso en estudio','Tipo de piso en sala','Tipo instalación de gas',\n",
    "                   'Valor de arriendo','areaPrivada','businessTypeId','cityname','hdCompanyUrl','hdIsOcasional',\n",
    "                   'hdnBusinessType','nameProperty','nomBarrio','nombreEmpresa','propertyTypeId','valorArriendo',\n",
    "                   'Área Terraza/Balcón','Área privada','Habitaciones',\n",
    "                  'Área construida','Área del lote','Baños']\n",
    "\n",
    "#identifica los campos que tengan el 90% de sus \n",
    "for columns in data_count_null[data_count_null['q_nan']==(n_rows)]['index']:\n",
    "    columns_to_drop.append(columns)\n",
    "\n",
    "train = train.drop(columns_to_drop,axis='columns')"
   ]
  },
  {
   "cell_type": "markdown",
   "metadata": {},
   "source": [
    "***Manejo de extras o complementos***"
   ]
  },
  {
   "cell_type": "markdown",
   "metadata": {},
   "source": [
    "- Extra1: El campo viene con las descripciones de los compementos -- No se debe hacer cambios\n",
    "- Extra2: Contiene si o no, se debe tomar el nombre del campo como el atributo de complemento\n",
    "- Extra3: El campo contiene la descripción y dentro de la misma indica que tipo de extra es\n",
    "- Extra4: El campo contiene la descripción pero es necesario complementar la información con el nombre del campo"
   ]
  },
  {
   "cell_type": "code",
   "execution_count": 5,
   "metadata": {},
   "outputs": [],
   "source": [
    "train_test = train.copy()"
   ]
  },
  {
   "cell_type": "code",
   "execution_count": 6,
   "metadata": {},
   "outputs": [],
   "source": [
    "extra2_descripcion = ['Ascensor','Cerca Centros Comerciales','Cerca Colegios / Universidades','Cerca Parques',\n",
    "                      'Cerca Supermercados','Cerca Transporte Público','Conjunto cerrado','Cuarto de servicio',\n",
    "                      'En interior y/o bloque','Esquinero','Estudio o biblioteca','Parqueadero cubierto',\n",
    "                      'Zona de BBQ','Zona de lavanderia']\n",
    "\n",
    "train_test['extra2'] = ''\n",
    "for extra2 in extra2_descripcion:\n",
    "    train_test[extra2] = train_test[extra2].apply(lambda x: extra2+',' if x == 'Si' else '')\n",
    "    train_test['extra2'] = train_test['extra2']+train_test[extra2]\n",
    "    #train_test = train_test.drop([extra2],axis='columns')\n"
   ]
  },
  {
   "cell_type": "code",
   "execution_count": 7,
   "metadata": {},
   "outputs": [],
   "source": [
    "extra3_descripcion = ['Tipo comedor','Tipo de Casa','Tipo de acabado piso']\n",
    "\n",
    "train_test['extra3'] = ''\n",
    "for extra3 in extra3_descripcion:\n",
    "    train_test[extra3] = train_test[extra3].apply(lambda x: x+',' if x==x else '')\n",
    "    train_test['extra3'] = train_test['extra3']+train_test[extra3]\n",
    "    train_test = train_test.drop([extra3],axis='columns')"
   ]
  },
  {
   "cell_type": "code",
   "execution_count": 8,
   "metadata": {},
   "outputs": [],
   "source": [
    "extra4_descripcion = ['Tipo de Cocina','Vigilancia','Vista']\n",
    "\n",
    "train_test['extra4'] = ''\n",
    "for extra4 in extra4_descripcion:\n",
    "    \n",
    "    train_test[extra4] = train_test[extra4].apply(lambda x: extra4+' '+str(x)+',' if x==x else ' ')\n",
    "    train_test['extra4'] = train_test['extra4']+train_test[extra4]\n",
    "    train_test = train_test.drop([extra4],axis='columns')\n"
   ]
  },
  {
   "cell_type": "code",
   "execution_count": 9,
   "metadata": {},
   "outputs": [],
   "source": [
    "train_test['extra'] = train_test['complemento']+train_test['extra2']+train_test['extra3']+train_test['extra4']\n"
   ]
  },
  {
   "cell_type": "code",
   "execution_count": 10,
   "metadata": {},
   "outputs": [],
   "source": [
    "train = train_test.drop(['complemento','extra2','extra3','extra4'],axis='columns').copy()"
   ]
  },
  {
   "cell_type": "markdown",
   "metadata": {},
   "source": [
    "***Homologacion de campos***"
   ]
  },
  {
   "cell_type": "code",
   "execution_count": 11,
   "metadata": {},
   "outputs": [],
   "source": [
    "homologacion_columns = {'propertyType':'tipo_inmueble',\n",
    "                        'zona':'zona',\n",
    "                        'Nombre común del barrio ':'barrio1', \n",
    "                        'Nombre del barrio catastral':'sector_catastral', \n",
    "                        'description':'descripcion', \n",
    "                        'propertyPrice':'precio',\n",
    "#                         'ContractType':'tipo_contrato',\n",
    "                        'areaConstruida':'area', \n",
    "#                         'Address':'direccion', \n",
    "                        'numHabitaciones':'numero_habitaciones', \n",
    "                        'numBanos':'num_banos',\n",
    "                        'Tiempo de construido':'edad',\n",
    "#                         'Condition':'condicion', \n",
    "                        'Número de piso': 'piso_ubicacion', \n",
    "                        'Valor de administración':'precio_administracion',\n",
    "                        'Estrato':'estrato',\n",
    "                        'numGaraje':'num_garages',\n",
    "                        'extra':'extras', \n",
    "                        'latitude':'latitude',\n",
    "                        'longitude':'longitude',\n",
    "                        'Número de niveles':'piso_interior',\n",
    "                        'Código web':'id_inmueble'}\n",
    "# Variable identificadas como no utiles\n",
    "columns_to_drop = []\n",
    "\n",
    "for column in train.columns:\n",
    "    if column not in homologacion_columns.keys():\n",
    "        columns_to_drop.append(column)\n",
    "        \n",
    "train = train.drop(columns_to_drop,axis='columns')\n",
    "train = train.rename(columns = homologacion_columns)"
   ]
  },
  {
   "cell_type": "code",
   "execution_count": 12,
   "metadata": {},
   "outputs": [
    {
     "name": "stdout",
     "output_type": "stream",
     "text": [
      "Fin limpieza finca raiz\n"
     ]
    }
   ],
   "source": [
    "train.to_csv('../../2.Export/2.Final/limpieza_metrocuadrado.csv')\n",
    "print(\"Fin limpieza finca raiz\")"
   ]
  }
 ],
 "metadata": {
  "kernelspec": {
   "display_name": "Python 3",
   "language": "python",
   "name": "python3"
  },
  "language_info": {
   "codemirror_mode": {
    "name": "ipython",
    "version": 3
   },
   "file_extension": ".py",
   "mimetype": "text/x-python",
   "name": "python",
   "nbconvert_exporter": "python",
   "pygments_lexer": "ipython3",
   "version": "3.7.3"
  }
 },
 "nbformat": 4,
 "nbformat_minor": 2
}
