{
 "cells": [
  {
   "cell_type": "code",
   "execution_count": 166,
   "metadata": {},
   "outputs": [],
   "source": [
    "import pandas as pd\n",
    "from sklearn import linear_model\n",
    "from sklearn.preprocessing import LabelEncoder\n",
    "from sklearn.model_selection import train_test_split\n",
    "from sklearn.ensemble import RandomForestRegressor"
   ]
  },
  {
   "cell_type": "code",
   "execution_count": 159,
   "metadata": {},
   "outputs": [
    {
     "data": {
      "text/plain": [
       "Index(['area', 'edad', 'estrato', 'extras', 'latitude', 'longitude',\n",
       "       'num_banos', 'num_garages', 'numero_habitaciones', 'piso_interior',\n",
       "       'piso_ubicacion', 'precio_administracion', 'tipo_inmueble',\n",
       "       'sector_catastral', 'SCaTipo', 'CountHospedaje', 'CountBibliotecas',\n",
       "       'CountCanchasSinteticas', 'CountCicloParqueadero', 'CountColegios',\n",
       "       'CountConsultorios', 'CountEPS', 'CountFarmacia', 'CountBomberos',\n",
       "       'CountIPS', 'CountIPSAtencionInfantil', 'CountVacunacionInfantil',\n",
       "       'CountMuseos', 'CountSITP', 'CountParquesUrbanos',\n",
       "       'CountUnidadServicioSalud', 'CountTeatros', 'LocNombre',\n",
       "       'CountRestaurantes', 'CountIglesias', 'CountCAIS',\n",
       "       'CountGastronomiaBar', 'CountDelitosSexuales', 'CountHurtos',\n",
       "       'log_precio', 'zona'],\n",
       "      dtype='object')"
      ]
     },
     "execution_count": 159,
     "metadata": {},
     "output_type": "execute_result"
    }
   ],
   "source": [
    "data_to_train_full = pd.read_csv(\"../../2.Export/2.Final/data_to_train_1.csv\")\n",
    "data_to_train_full = data_to_train_full.drop(['Unnamed: 0','precio','id_inmueble','SCaCodigo','LocCodigo','descripcion','log_area'],axis='columns')\n",
    "data_to_train_full.columns"
   ]
  },
  {
   "cell_type": "code",
   "execution_count": 160,
   "metadata": {},
   "outputs": [],
   "source": [
    "cols = ['edad','extras','tipo_inmueble','sector_catastral','SCaTipo','LocNombre','zona']\n",
    "for c in cols:\n",
    "    lbl = LabelEncoder() \n",
    "    lbl.fit(list(data_to_train_full[c].values)) \n",
    "    data_to_train_full[c] = lbl.transform(list(data_to_train_full[c].values))"
   ]
  },
  {
   "cell_type": "code",
   "execution_count": 69,
   "metadata": {},
   "outputs": [],
   "source": []
  },
  {
   "cell_type": "code",
   "execution_count": 168,
   "metadata": {},
   "outputs": [],
   "source": [
    "data_to_train = data_to_train_full.copy()\n",
    "# cols_drop = ['CountHospedaje', 'CountBibliotecas',\n",
    "#        'CountCanchasSinteticas', 'CountCicloParqueadero', 'CountColegios',\n",
    "#        'CountConsultorios', 'CountEPS', 'CountFarmacia', 'CountGastronomiaBar',\n",
    "#        'CountBomberos', 'CountIPS', 'CountIPSAtencionInfantil',\n",
    "#        'CountVacunacionInfantil', 'CountMuseos', 'CountSITP',\n",
    "#        'CountParquesUrbanos', 'CountUnidadServicioSalud', 'CountTeatros',\n",
    "#              'CountRestaurantes', 'CountDelitosSexuales', 'CountHurtos',\n",
    "#        'CountIglesias', 'CountCAIS',\n",
    "#              'SCaTipo','LocNombre','extras','precio_administracion','area','latitude', 'longitude',\n",
    "#             'sector_catastral','zona','tipo_inmueble','numero_habitaciones',\n",
    "#             'edad', 'num_garages','num_banos','piso_interior', 'piso_ubicacion' ]\n",
    "# # cols_drop = ['num_garages']\n",
    "# data_to_train = data_to_train.drop(cols_drop,axis='columns')\n",
    "\n",
    "#data_to_train.columns"
   ]
  },
  {
   "cell_type": "code",
   "execution_count": 165,
   "metadata": {},
   "outputs": [
    {
     "name": "stdout",
     "output_type": "stream",
     "text": [
      "Predict value [8.94104364]\n",
      "Real value 8.911690158753863\n",
      "Accuracy -->  80.19459471870974\n"
     ]
    }
   ],
   "source": [
    "model1 = linear_model.LinearRegression()\n",
    "y = data_to_train['log_precio']\n",
    "del data_to_train['log_precio']\n",
    "X = data_to_train.values\n",
    "y = y.values\n",
    "X_train, X_test, y_train, y_test = train_test_split(X, y, test_size=0.2, random_state=7)\n",
    "model1.fit(X_train, y_train)\n",
    "print(\"Predict value \" + str(model1.predict([X_test[4]])))\n",
    "print(\"Real value \" + str(y_test[4]))\n",
    "print(\"Accuracy --> \", model1.score(X_test, y_test)*100)"
   ]
  },
  {
   "cell_type": "code",
   "execution_count": null,
   "metadata": {},
   "outputs": [],
   "source": [
    "model2 = RandomForestRegressor(n_estimators=50)\n",
    "model2.fit(X_train, y_train)\n",
    "print(\"Accuracy --> \", model2.score(X_test, y_test)*100)\n"
   ]
  },
  {
   "cell_type": "code",
   "execution_count": null,
   "metadata": {},
   "outputs": [],
   "source": [
    "formula = ('log_price ~ num_garages')\n",
    "mod9 = smf.ols(formula=formula, data=houses).fit()\n",
    "print(mod9.summary())"
   ]
  }
 ],
 "metadata": {
  "kernelspec": {
   "display_name": "Python 3",
   "language": "python",
   "name": "python3"
  },
  "language_info": {
   "codemirror_mode": {
    "name": "ipython",
    "version": 3
   },
   "file_extension": ".py",
   "mimetype": "text/x-python",
   "name": "python",
   "nbconvert_exporter": "python",
   "pygments_lexer": "ipython3",
   "version": "3.7.3"
  }
 },
 "nbformat": 4,
 "nbformat_minor": 2
}
