{
 "cells": [
  {
   "cell_type": "code",
   "execution_count": 19,
   "metadata": {},
   "outputs": [],
   "source": [
    "import pandas as pd\n",
    "import geopandas as gpd\n",
    "import plotly.plotly as py"
   ]
  },
  {
   "cell_type": "code",
   "execution_count": 2,
   "metadata": {},
   "outputs": [],
   "source": [
    "df = pd.read_csv('/home/shade/DS4A/Grupo35-DS4A/Final_Project/Web_Scrapping/Finca_Raiz/Data_counts_sales_by_sector/count_bog_by_man_3.csv')"
   ]
  },
  {
   "cell_type": "code",
   "execution_count": 9,
   "metadata": {},
   "outputs": [
    {
     "data": {
      "text/plain": [
       "(1167, 4)"
      ]
     },
     "execution_count": 9,
     "metadata": {},
     "output_type": "execute_result"
    }
   ],
   "source": [
    "df.shape"
   ]
  },
  {
   "cell_type": "code",
   "execution_count": 5,
   "metadata": {},
   "outputs": [],
   "source": [
    "sca = gpd.read_file('/home/shade/DS4A/Data/Dataset/Shapes/SCat.shp')"
   ]
  },
  {
   "cell_type": "code",
   "execution_count": 10,
   "metadata": {},
   "outputs": [
    {
     "data": {
      "text/html": [
       "<div>\n",
       "<style scoped>\n",
       "    .dataframe tbody tr th:only-of-type {\n",
       "        vertical-align: middle;\n",
       "    }\n",
       "\n",
       "    .dataframe tbody tr th {\n",
       "        vertical-align: top;\n",
       "    }\n",
       "\n",
       "    .dataframe thead th {\n",
       "        text-align: right;\n",
       "    }\n",
       "</style>\n",
       "<table border=\"1\" class=\"dataframe\">\n",
       "  <thead>\n",
       "    <tr style=\"text-align: right;\">\n",
       "      <th></th>\n",
       "      <th>SCaCodigo</th>\n",
       "      <th>SCaNombre</th>\n",
       "      <th>geometry</th>\n",
       "    </tr>\n",
       "  </thead>\n",
       "  <tbody>\n",
       "    <tr>\n",
       "      <th>0</th>\n",
       "      <td>205109</td>\n",
       "      <td>LA MAGDALENA I</td>\n",
       "      <td>POLYGON ((-74.15608 4.65791, -74.15563 4.65746...</td>\n",
       "    </tr>\n",
       "    <tr>\n",
       "      <th>1</th>\n",
       "      <td>205227</td>\n",
       "      <td>OSORIO IX</td>\n",
       "      <td>POLYGON ((-74.17087 4.65701, -74.17088 4.65699...</td>\n",
       "    </tr>\n",
       "    <tr>\n",
       "      <th>2</th>\n",
       "      <td>208128</td>\n",
       "      <td>TORCA II</td>\n",
       "      <td>POLYGON ((-74.02645 4.81365, -74.02640 4.81364...</td>\n",
       "    </tr>\n",
       "    <tr>\n",
       "      <th>3</th>\n",
       "      <td>105203</td>\n",
       "      <td>OSORIO II</td>\n",
       "      <td>POLYGON ((-74.16310 4.65904, -74.16221 4.65762...</td>\n",
       "    </tr>\n",
       "    <tr>\n",
       "      <th>4</th>\n",
       "      <td>201109</td>\n",
       "      <td>INGEMAR I</td>\n",
       "      <td>POLYGON ((-74.05547 4.64093, -74.05531 4.64034...</td>\n",
       "    </tr>\n",
       "  </tbody>\n",
       "</table>\n",
       "</div>"
      ],
      "text/plain": [
       "  SCaCodigo       SCaNombre                                           geometry\n",
       "0    205109  LA MAGDALENA I  POLYGON ((-74.15608 4.65791, -74.15563 4.65746...\n",
       "1    205227       OSORIO IX  POLYGON ((-74.17087 4.65701, -74.17088 4.65699...\n",
       "2    208128        TORCA II  POLYGON ((-74.02645 4.81365, -74.02640 4.81364...\n",
       "3    105203       OSORIO II  POLYGON ((-74.16310 4.65904, -74.16221 4.65762...\n",
       "4    201109       INGEMAR I  POLYGON ((-74.05547 4.64093, -74.05531 4.64034..."
      ]
     },
     "execution_count": 10,
     "metadata": {},
     "output_type": "execute_result"
    }
   ],
   "source": [
    "sca.head()"
   ]
  },
  {
   "cell_type": "code",
   "execution_count": 32,
   "metadata": {},
   "outputs": [
    {
     "data": {
      "text/plain": [
       "[{'type': 'choropleth', 'autocolorscale': False, 'locations': 0       205109\n",
       "  1       205227\n",
       "  2       208128\n",
       "  3       105203\n",
       "  4       201109\n",
       "           ...  \n",
       "  1162    102406\n",
       "  1163    108103\n",
       "  1164    008504\n",
       "  1165    006525\n",
       "  1166    105403\n",
       "  Name: SCaCodigo, Length: 1167, dtype: object, 'z': 0        74\n",
       "  1         1\n",
       "  2         4\n",
       "  3         2\n",
       "  4         1\n",
       "         ... \n",
       "  1162      0\n",
       "  1163      4\n",
       "  1164      4\n",
       "  1165    108\n",
       "  1166      0\n",
       "  Name: count, Length: 1167, dtype: int64, 'locationmode': 'USA-states', 'text': 0                 LA MAGDALENA I\n",
       "  1                      OSORIO IX\n",
       "  2                       TORCA II\n",
       "  3                      OSORIO II\n",
       "  4                      INGEMAR I\n",
       "                    ...           \n",
       "  1162           EL BOSQUE CENTRAL\n",
       "  1163    BARRANCAS ORIENTAL RURAL\n",
       "  1164                     LA CITA\n",
       "  1165                 EL CHANCO I\n",
       "  1166         EL CHANCO RURAL III\n",
       "  Name: SCaNombre, Length: 1167, dtype: object, 'colorscale': 'YlGnBu', 'colorbar': {'title': 'Number ventas'}}]"
      ]
     },
     "execution_count": 32,
     "metadata": {},
     "output_type": "execute_result"
    }
   ],
   "source": [
    "data = [dict(type='choropleth', autocolorscale=False, locations=sca['SCaCodigo'], z=df['count'],\n",
    "        locationmode = 'USA-states', text = sca['SCaNombre'], colorscale = 'YlGnBu', colorbar = dict(title='Number ventas'))]\n",
    "data"
   ]
  },
  {
   "cell_type": "code",
   "execution_count": 29,
   "metadata": {},
   "outputs": [
    {
     "data": {
      "text/plain": [
       "{'title': 'Ejemplo mapas',\n",
       " 'geo': {'scope': 'south america',\n",
       "  'projection': {'type': 'albers usa'},\n",
       "  'showlakes': True,\n",
       "  'lakecolor': 'rgb(66, 165, 245)'}}"
      ]
     },
     "execution_count": 29,
     "metadata": {},
     "output_type": "execute_result"
    }
   ],
   "source": [
    "layout = dict(title='Ejemplo mapas', geo=dict(scope = 'south america', projection=dict(type='albers usa'), showlakes = True, lakecolor = 'rgb(66, 165, 245)'))\n",
    "layout"
   ]
  },
  {
   "cell_type": "code",
   "execution_count": 12,
   "metadata": {},
   "outputs": [
    {
     "name": "stdout",
     "output_type": "stream",
     "text": [
      "Collecting plotly==4.0.0\n",
      "\u001b[?25l  Downloading https://files.pythonhosted.org/packages/58/f3/a49d3281cc7275164ecf89ad3497556b11d9661faa119becdf7f9d3b2125/plotly-4.0.0-py2.py3-none-any.whl (6.8MB)\n",
      "\u001b[K    100% |████████████████████████████████| 6.8MB 185kB/s ta 0:00:011\n",
      "\u001b[?25hRequirement already satisfied: retrying>=1.3.3 in /usr/lib/python3/dist-packages (from plotly==4.0.0) (1.3.3)\n",
      "Requirement already satisfied: six in /usr/lib/python3/dist-packages (from plotly==4.0.0) (1.12.0)\n",
      "\u001b[31mcufflinks 0.17.0 has requirement plotly>=4.1.1, but you'll have plotly 4.0.0 which is incompatible.\u001b[0m\n",
      "Installing collected packages: plotly\n",
      "  Found existing installation: plotly 4.3.0\n",
      "    Uninstalling plotly-4.3.0:\n",
      "      Successfully uninstalled plotly-4.3.0\n",
      "Successfully installed plotly-4.0.0\n"
     ]
    }
   ],
   "source": [
    "!pip3 install plotly==4.0.0"
   ]
  },
  {
   "cell_type": "code",
   "execution_count": 13,
   "metadata": {},
   "outputs": [
    {
     "ename": "ImportError",
     "evalue": "cannot import name 'qualitative' from 'plotly.express.colors' (/home/shade/.local/lib/python3.7/site-packages/plotly/express/colors.py)",
     "output_type": "error",
     "traceback": [
      "\u001b[0;31m---------------------------------------------------------------------------\u001b[0m",
      "\u001b[0;31mImportError\u001b[0m                               Traceback (most recent call last)",
      "\u001b[0;32m<ipython-input-13-9d5bdef49fab>\u001b[0m in \u001b[0;36m<module>\u001b[0;34m\u001b[0m\n\u001b[0;32m----> 1\u001b[0;31m \u001b[0;32mimport\u001b[0m \u001b[0mplotly\u001b[0m\u001b[0;34m.\u001b[0m\u001b[0mexpress\u001b[0m \u001b[0;32mas\u001b[0m \u001b[0mpx\u001b[0m\u001b[0;34m\u001b[0m\u001b[0;34m\u001b[0m\u001b[0m\n\u001b[0m\u001b[1;32m      2\u001b[0m \u001b[0mfig\u001b[0m \u001b[0;34m=\u001b[0m \u001b[0mpx\u001b[0m\u001b[0;34m.\u001b[0m\u001b[0mscatter\u001b[0m\u001b[0;34m(\u001b[0m\u001b[0mx\u001b[0m\u001b[0;34m=\u001b[0m\u001b[0;34m[\u001b[0m\u001b[0;36m0\u001b[0m\u001b[0;34m,\u001b[0m \u001b[0;36m1\u001b[0m\u001b[0;34m,\u001b[0m \u001b[0;36m2\u001b[0m\u001b[0;34m,\u001b[0m \u001b[0;36m3\u001b[0m\u001b[0;34m,\u001b[0m \u001b[0;36m4\u001b[0m\u001b[0;34m]\u001b[0m\u001b[0;34m,\u001b[0m \u001b[0my\u001b[0m\u001b[0;34m=\u001b[0m\u001b[0;34m[\u001b[0m\u001b[0;36m0\u001b[0m\u001b[0;34m,\u001b[0m \u001b[0;36m1\u001b[0m\u001b[0;34m,\u001b[0m \u001b[0;36m4\u001b[0m\u001b[0;34m,\u001b[0m \u001b[0;36m9\u001b[0m\u001b[0;34m,\u001b[0m \u001b[0;36m16\u001b[0m\u001b[0;34m]\u001b[0m\u001b[0;34m)\u001b[0m\u001b[0;34m\u001b[0m\u001b[0;34m\u001b[0m\u001b[0m\n\u001b[1;32m      3\u001b[0m \u001b[0mfig\u001b[0m\u001b[0;34m.\u001b[0m\u001b[0mshow\u001b[0m\u001b[0;34m(\u001b[0m\u001b[0;34m)\u001b[0m\u001b[0;34m\u001b[0m\u001b[0;34m\u001b[0m\u001b[0m\n",
      "\u001b[0;32m~/.local/lib/python3.7/site-packages/plotly/express/__init__.py\u001b[0m in \u001b[0;36m<module>\u001b[0;34m\u001b[0m\n\u001b[1;32m      6\u001b[0m \u001b[0m__version__\u001b[0m \u001b[0;34m=\u001b[0m \u001b[0;34m\"0.3.0\"\u001b[0m\u001b[0;34m\u001b[0m\u001b[0;34m\u001b[0m\u001b[0m\n\u001b[1;32m      7\u001b[0m \u001b[0;34m\u001b[0m\u001b[0m\n\u001b[0;32m----> 8\u001b[0;31m from ._chart_types import (  # noqa: F401\n\u001b[0m\u001b[1;32m      9\u001b[0m     \u001b[0mscatter\u001b[0m\u001b[0;34m,\u001b[0m\u001b[0;34m\u001b[0m\u001b[0;34m\u001b[0m\u001b[0m\n\u001b[1;32m     10\u001b[0m     \u001b[0mscatter_3d\u001b[0m\u001b[0;34m,\u001b[0m\u001b[0;34m\u001b[0m\u001b[0;34m\u001b[0m\u001b[0m\n",
      "\u001b[0;32m~/.local/lib/python3.7/site-packages/plotly/express/_chart_types.py\u001b[0m in \u001b[0;36m<module>\u001b[0;34m\u001b[0m\n\u001b[0;32m----> 1\u001b[0;31m \u001b[0;32mfrom\u001b[0m \u001b[0;34m.\u001b[0m\u001b[0m_core\u001b[0m \u001b[0;32mimport\u001b[0m \u001b[0mmake_figure\u001b[0m\u001b[0;34m\u001b[0m\u001b[0;34m\u001b[0m\u001b[0m\n\u001b[0m\u001b[1;32m      2\u001b[0m \u001b[0;32mfrom\u001b[0m \u001b[0;34m.\u001b[0m\u001b[0m_doc\u001b[0m \u001b[0;32mimport\u001b[0m \u001b[0mmake_docstring\u001b[0m\u001b[0;34m\u001b[0m\u001b[0;34m\u001b[0m\u001b[0m\n\u001b[1;32m      3\u001b[0m \u001b[0;32mimport\u001b[0m \u001b[0mplotly\u001b[0m\u001b[0;34m.\u001b[0m\u001b[0mgraph_objs\u001b[0m \u001b[0;32mas\u001b[0m \u001b[0mgo\u001b[0m\u001b[0;34m\u001b[0m\u001b[0;34m\u001b[0m\u001b[0m\n\u001b[1;32m      4\u001b[0m \u001b[0;34m\u001b[0m\u001b[0m\n\u001b[1;32m      5\u001b[0m \u001b[0;34m\u001b[0m\u001b[0m\n",
      "\u001b[0;32m~/.local/lib/python3.7/site-packages/plotly/express/_core.py\u001b[0m in \u001b[0;36m<module>\u001b[0;34m\u001b[0m\n\u001b[1;32m      4\u001b[0m \u001b[0;34m\u001b[0m\u001b[0m\n\u001b[1;32m      5\u001b[0m \u001b[0;32mfrom\u001b[0m \u001b[0m_plotly_utils\u001b[0m\u001b[0;34m.\u001b[0m\u001b[0mbasevalidators\u001b[0m \u001b[0;32mimport\u001b[0m \u001b[0mColorscaleValidator\u001b[0m\u001b[0;34m\u001b[0m\u001b[0;34m\u001b[0m\u001b[0m\n\u001b[0;32m----> 6\u001b[0;31m \u001b[0;32mfrom\u001b[0m \u001b[0;34m.\u001b[0m\u001b[0mcolors\u001b[0m \u001b[0;32mimport\u001b[0m \u001b[0mqualitative\u001b[0m\u001b[0;34m,\u001b[0m \u001b[0msequential\u001b[0m\u001b[0;34m\u001b[0m\u001b[0;34m\u001b[0m\u001b[0m\n\u001b[0m\u001b[1;32m      7\u001b[0m \u001b[0;32mimport\u001b[0m \u001b[0mmath\u001b[0m\u001b[0;34m\u001b[0m\u001b[0;34m\u001b[0m\u001b[0m\n\u001b[1;32m      8\u001b[0m \u001b[0;32mimport\u001b[0m \u001b[0mpandas\u001b[0m\u001b[0;34m\u001b[0m\u001b[0;34m\u001b[0m\u001b[0m\n",
      "\u001b[0;31mImportError\u001b[0m: cannot import name 'qualitative' from 'plotly.express.colors' (/home/shade/.local/lib/python3.7/site-packages/plotly/express/colors.py)"
     ]
    }
   ],
   "source": [
    "import plotly.express as px\n",
    "fig = px.scatter(x=[0, 1, 2, 3, 4], y=[0, 1, 4, 9, 16])\n",
    "fig.show()"
   ]
  },
  {
   "cell_type": "code",
   "execution_count": 16,
   "metadata": {},
   "outputs": [],
   "source": [
    "import plotly.plotly as py"
   ]
  },
  {
   "cell_type": "code",
   "execution_count": 17,
   "metadata": {},
   "outputs": [
    {
     "data": {
      "text/plain": [
       "['Stream',\n",
       " '__builtins__',\n",
       " '__cached__',\n",
       " '__doc__',\n",
       " '__file__',\n",
       " '__loader__',\n",
       " '__name__',\n",
       " '__package__',\n",
       " '__path__',\n",
       " '__spec__',\n",
       " '_chart_studio_warning',\n",
       " '_future_flags',\n",
       " 'absolute_import',\n",
       " 'chunked_requests',\n",
       " 'create_animations',\n",
       " 'dashboard_ops',\n",
       " 'file_ops',\n",
       " 'get_config',\n",
       " 'get_credentials',\n",
       " 'get_figure',\n",
       " 'get_grid',\n",
       " 'grid_ops',\n",
       " 'icreate_animations',\n",
       " 'image',\n",
       " 'iplot',\n",
       " 'iplot_mpl',\n",
       " 'meta_ops',\n",
       " 'parse_grid_id_args',\n",
       " 'plot',\n",
       " 'plot_mpl',\n",
       " 'plotly',\n",
       " 'presentation_ops',\n",
       " 'sign_in',\n",
       " 'update_plot_options']"
      ]
     },
     "execution_count": 17,
     "metadata": {},
     "output_type": "execute_result"
    }
   ],
   "source": [
    "dir(py)"
   ]
  }
 ],
 "metadata": {
  "kernelspec": {
   "display_name": "Python 3",
   "language": "python",
   "name": "python3"
  },
  "language_info": {
   "codemirror_mode": {
    "name": "ipython",
    "version": 3
   },
   "file_extension": ".py",
   "mimetype": "text/x-python",
   "name": "python",
   "nbconvert_exporter": "python",
   "pygments_lexer": "ipython3",
   "version": "3.7.3"
  }
 },
 "nbformat": 4,
 "nbformat_minor": 4
}
