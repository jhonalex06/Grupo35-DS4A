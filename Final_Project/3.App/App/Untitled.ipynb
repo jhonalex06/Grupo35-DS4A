{
 "cells": [
  {
   "cell_type": "code",
   "execution_count": 3,
   "metadata": {},
   "outputs": [],
   "source": [
    "import pandas as pd"
   ]
  },
  {
   "cell_type": "code",
   "execution_count": 4,
   "metadata": {},
   "outputs": [
    {
     "name": "stderr",
     "output_type": "stream",
     "text": [
      "/home/shade/.local/lib/python3.7/site-packages/IPython/core/interactiveshell.py:3058: DtypeWarning: Columns (36) have mixed types. Specify dtype option on import or set low_memory=False.\n",
      "  interactivity=interactivity, compiler=compiler, result=result)\n"
     ]
    },
    {
     "data": {
      "text/plain": [
       "Index(['ClientId', 'ClientName', 'TransactionId', 'TransactionType',\n",
       "       'Category1Id', 'Category2Id', 'Category3Id', 'Category1', 'Category2',\n",
       "       'Category3', 'Location1', 'Location2', 'Location3', 'Location4',\n",
       "       'Description', 'Price', 'ContractType', 'OutStanding', 'TopAdvert',\n",
       "       'ProductLabel', 'GridDate', 'Keywords', 'Status', 'Surface', 'Area',\n",
       "       'LivingArea', 'Address', 'Rooms', 'Capacity', 'Baths', 'Ages',\n",
       "       'DeliveryDate', 'Condition', 'Floor', 'AdministrationPrice',\n",
       "       'Neighborhood', 'Stratum', 'Garages', 'Extras', 'Latitude', 'Longitude',\n",
       "       'ModifyDate', 'PriceType', 'InteriorFloors', 'url_link'],\n",
       "      dtype='object')"
      ]
     },
     "execution_count": 4,
     "metadata": {},
     "output_type": "execute_result"
    }
   ],
   "source": [
    "df = pd.read_csv('web_scrapping_bogota.csv')\n",
    "df.columns"
   ]
  },
  {
   "cell_type": "code",
   "execution_count": 6,
   "metadata": {},
   "outputs": [],
   "source": [
    "df_g = df.groupby('Ages')"
   ]
  },
  {
   "cell_type": "code",
   "execution_count": 23,
   "metadata": {},
   "outputs": [
    {
     "name": "stdout",
     "output_type": "stream",
     "text": [
      "['1 a 8 años', '16 a 30 años', '9 a 15 años', 'Menos de 1 año', 'Más de 30 años']\n",
      "[872341575.5395159, 866020808.0025716, 1664699896.2020981, 782220367.0742155, 43152314907.408676]\n"
     ]
    }
   ],
   "source": [
    "x = []\n",
    "y = []\n",
    "z = []\n",
    "\n",
    "for i in df_g:\n",
    "    x.append(i[0])\n",
    "    y.append(i[1]['Price'].mean())\n",
    "    z.append(len(i[1]))\n",
    "    \n",
    "print (x)\n",
    "print (y)"
   ]
  },
  {
   "cell_type": "code",
   "execution_count": 28,
   "metadata": {},
   "outputs": [
    {
     "name": "stdout",
     "output_type": "stream",
     "text": [
      "3.399354578459056\n",
      "4.0\n",
      "2.7684550221863655\n",
      "0.7392093586123437\n",
      "1.6740621218233158\n"
     ]
    }
   ],
   "source": [
    "for i in z:\n",
    "    print ((i/max(z))*4)"
   ]
  }
 ],
 "metadata": {
  "kernelspec": {
   "display_name": "Python 3",
   "language": "python",
   "name": "python3"
  },
  "language_info": {
   "codemirror_mode": {
    "name": "ipython",
    "version": 3
   },
   "file_extension": ".py",
   "mimetype": "text/x-python",
   "name": "python",
   "nbconvert_exporter": "python",
   "pygments_lexer": "ipython3",
   "version": "3.7.5"
  }
 },
 "nbformat": 4,
 "nbformat_minor": 2
}
